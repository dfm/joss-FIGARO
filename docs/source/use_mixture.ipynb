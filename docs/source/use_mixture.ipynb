{
 "cells": [
  {
   "cell_type": "markdown",
   "metadata": {},
   "source": [
    "# How to use a FIGARO reconstruction"
   ]
  },
  {
   "cell_type": "markdown",
   "metadata": {},
   "source": [
    "FIGARO, despite being a stochastic sampler, does not produce a set of samples (numbers) directly, but rather a number of `figaro.mixture.mixture` objects stored as `.json` or `.pkl` files. Each of these objects represents a probability density drawn around the probability density that generated the available data. If you need to use these realisations in a `python` script (to evaluate their pdf, for example, or to draw realisations from them), here you'll find the (few!) steps needed for doing so."
   ]
  },
  {
   "cell_type": "code",
   "execution_count": 1,
   "metadata": {},
   "outputs": [],
   "source": [
    "import numpy as np\n",
    "import matplotlib.pyplot as plt\n",
    "from figaro import plot_settings\n",
    "%matplotlib inline"
   ]
  },
  {
   "cell_type": "markdown",
   "metadata": {},
   "source": [
    "## Basic usage "
   ]
  },
  {
   "cell_type": "markdown",
   "metadata": {},
   "source": [
    "Let us assume to have our realisations stored in a file called `draws_file.json` (they can be the product of a hierarchical inference or a DPGMM reconstruction, it does not make any difference). The first thing to do is to load the realisations via the dedicated method, `figaro.load.load_density`:"
   ]
  },
  {
   "cell_type": "code",
   "execution_count": 2,
   "metadata": {},
   "outputs": [],
   "source": [
    "from figaro.load import load_density\n",
    "draws = load_density('./draws_example.json')"
   ]
  },
  {
   "cell_type": "markdown",
   "metadata": {},
   "source": [
    "`draws` will be a list of `figaro.mixture.mixture` objects, each of them representing a probability distribution. The methods of this class are modelled after the `scipy.stats` methods to facilitate users that are already familiar with the SciPy package:"
   ]
  },
  {
   "cell_type": "code",
   "execution_count": 3,
   "metadata": {},
   "outputs": [
    {
     "data": {
      "text/plain": [
       "(array([0.03470811]),\n",
       " array([-3.36078192]),\n",
       " array([0.98599125]),\n",
       " array([[-0.214056  ],\n",
       "        [ 0.09627442],\n",
       "        [-1.66075543]]))"
      ]
     },
     "execution_count": 3,
     "metadata": {},
     "output_type": "execute_result"
    }
   ],
   "source": [
    "d = draws[0]\n",
    "X = 2.\n",
    "(d.pdf(X), d.logpdf(X), d.cdf(X), d.rvs(3))"
   ]
  },
  {
   "cell_type": "markdown",
   "metadata": {},
   "source": [
    "## Advanced use"
   ]
  },
  {
   "cell_type": "markdown",
   "metadata": {},
   "source": [
    "If you need to draw samples from the median distribution, there is a dedicated method in the `figaro.utils` module:"
   ]
  },
  {
   "cell_type": "code",
   "execution_count": 4,
   "metadata": {},
   "outputs": [
    {
     "data": {
      "image/png": "[encoded data removed]",
      "text/plain": [
       "<Figure size 640x480 with 1 Axes>"
      ]
     },
     "metadata": {},
     "output_type": "display_data"
    }
   ],
   "source": [
    "from figaro.utils import rvs_median\n",
    "\n",
    "x = np.linspace(*draws[0].bounds[0], 1000)\n",
    "med = np.median([d.pdf(x) for d in draws], axis = 0)\n",
    "\n",
    "samples = rvs_median(draws, size = 1000)\n",
    "\n",
    "fig, ax = plt.subplots()\n",
    "_ = ax.hist(samples, histtype = 'step', density = True)\n",
    "_ = ax.plot(x, med)"
   ]
  },
  {
   "cell_type": "markdown",
   "metadata": {},
   "source": [
    "The gradient of the recovered distribution can be evaluated using the `gradient()` method of individual draws:"
   ]
  },
  {
   "cell_type": "code",
   "execution_count": 5,
   "metadata": {},
   "outputs": [
    {
     "data": {
      "text/plain": [
       "array([[-0.12637676]])"
      ]
     },
     "execution_count": 5,
     "metadata": {},
     "output_type": "execute_result"
    }
   ],
   "source": [
    "d.gradient(X)"
   ]
  },
  {
   "cell_type": "markdown",
   "metadata": {},
   "source": [
    "It is also possible to evaluate the gradient of the median distribution in a numerically stable way using the dedicated function:"
   ]
  },
  {
   "cell_type": "code",
   "execution_count": 6,
   "metadata": {},
   "outputs": [
    {
     "data": {
      "text/plain": [
       "array([[-0.09038139]])"
      ]
     },
     "execution_count": 6,
     "metadata": {},
     "output_type": "execute_result"
    }
   ],
   "source": [
    "from figaro.utils import gradient_median\n",
    "gradient_median(X, draws)"
   ]
  },
  {
   "cell_type": "markdown",
   "metadata": {},
   "source": [
    "Please note: these methods are painfully slow and we haven't really found a way of optimising them. If you manage to improve it, please open a pull request!\n",
    "\n",
    "For multivariate distributions, it might happen that one needs to evaluate the conditional distribution or the marginal distribution.\n",
    "Making use of the properties of the multivariate Gaussian distribution, we can obtain the conditional and/or marginal distribution analytically both via the methods included in the `figaro.mixture.mixture` class or via the ones in the `figaro.marginal` module:"
   ]
  },
  {
   "cell_type": "code",
   "execution_count": 7,
   "metadata": {},
   "outputs": [],
   "source": [
    "draws = load_density('./draws_example_2d.json')\n",
    "\n",
    "d = draws[0]\n",
    "\n",
    "# Single draw\n",
    "d_marg = d.marginalise([1]) # Marginalisation over the second dimension\n",
    "d_cond = d.condition([1.2], [0]) # Condition on a specific value along the first dimension\n",
    "\n",
    "from figaro.marginal import marginalise, condition\n",
    "\n",
    "# Vectorised\n",
    "draws_marg = marginalise(draws, [1])\n",
    "draws_cond = condition(draws,[1.2], [0])"
   ]
  },
  {
   "cell_type": "markdown",
   "metadata": {},
   "source": [
    "Please note that in both cases the original `draws` are preserved.\n",
    "\n",
    "A set of reconstructions can be saved using the `figaro.load.save_density` method:"
   ]
  },
  {
   "cell_type": "code",
   "execution_count": 8,
   "metadata": {},
   "outputs": [],
   "source": [
    "from figaro.load import save_density\n",
    "\n",
    "save_density(draws_marg, folder = '.', name = 'marginalised')"
   ]
  },
  {
   "cell_type": "markdown",
   "metadata": {},
   "source": [
    "## Plots"
   ]
  },
  {
   "cell_type": "markdown",
   "metadata": {},
   "source": [
    "The plots produced by the CLI can be easily reproduced using the methods included in the `figaro.plot` module, mainly `figaro.plot.plot_median_cr` and `figaro.plot.plot_multidim`. Please refer to the relevant documentation page for the details. "
   ]
  }
 ],
 "metadata": {
  "kernelspec": {
   "display_name": "Python 3 (ipykernel)",
   "language": "python",
   "name": "python3"
  },
  "language_info": {
   "codemirror_mode": {
    "name": "ipython",
    "version": 3
   },
   "file_extension": ".py",
   "mimetype": "text/x-python",
   "name": "python",
   "nbconvert_exporter": "python",
   "pygments_lexer": "ipython3",
   "version": "3.10.13"
  }
 },
 "nbformat": 4,
 "nbformat_minor": 4
}
