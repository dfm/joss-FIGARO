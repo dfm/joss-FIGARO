{
 "cells": [
  {
   "cell_type": "markdown",
   "id": "e5d1293d",
   "metadata": {},
   "source": [
    "# `utils.py`"
   ]
  },
  {
   "cell_type": "markdown",
   "id": "a762c0b5",
   "metadata": {},
   "source": [
    "This notebook tests the `utils` module.\n",
    "\n",
    "This module contains a miscellanea of functions which are not strictly necessary to FIGARO itself but can be useful while including FIGARO in a piece of code."
   ]
  },
  {
   "cell_type": "markdown",
   "id": "1bdf4697",
   "metadata": {},
   "source": [
    "## Utilities"
   ]
  },
  {
   "cell_type": "markdown",
   "id": "a0c496b9",
   "metadata": {},
   "source": [
    "### `recursive_grid`"
   ]
  },
  {
   "cell_type": "markdown",
   "id": "a5f2c5a1",
   "metadata": {},
   "source": [
    "This method takes a 2D array of bounds and a 1D array containing the desired number of grid points for each dimension and returns a ND grid, where the number of dimension is inferred from bounds.\\\n",
    "The shape of the returned grid is `(prod(n_pts), len(bounds))`. This grid shape allows the output of `recursive_grid` to be directly passed to FIGARO.\n",
    "Please note that `len(bounds)` must be equal or smaller than `len(n_pts)`."
   ]
  },
  {
   "cell_type": "code",
   "execution_count": null,
   "id": "05603078",
   "metadata": {},
   "outputs": [],
   "source": [
    "import numpy as np\n",
    "import matplotlib.pyplot as plt\n",
    "from figaro.utils import recursive_grid\n",
    "\n",
    "bounds = [[0,1],[0,1]]\n",
    "n_pts  = [20,30]\n",
    "\n",
    "grid, dgrid = recursive_grid(bounds, n_pts)\n",
    "\n",
    "plt.scatter(grid[:,0], grid[:,1])\n",
    "\n",
    "print(grid.shape)"
   ]
  },
  {
   "cell_type": "markdown",
   "id": "b295c625",
   "metadata": {},
   "source": [
    "Comparison with double for loop:"
   ]
  },
  {
   "cell_type": "code",
   "execution_count": null,
   "id": "ea3b92a6",
   "metadata": {},
   "outputs": [],
   "source": [
    "grid_check = []\n",
    "for i in np.linspace(bounds[0][0], bounds[0][1], n_pts[0]+2)[1:-1]:\n",
    "    for j in np.linspace(bounds[1][0], bounds[1][1], n_pts[1]+2)[1:-1]:\n",
    "        grid_check.append([i,j])\n",
    "        \n",
    "np.alltrue(grid_check == grid)"
   ]
  },
  {
   "cell_type": "markdown",
   "id": "c287b8d1",
   "metadata": {},
   "source": [
    "4D grid:"
   ]
  },
  {
   "cell_type": "code",
   "execution_count": null,
   "id": "7c090271",
   "metadata": {},
   "outputs": [],
   "source": [
    "bounds = [[0,1] for _ in range(4)]\n",
    "n_pts  = [30 for _ in range(4)]\n",
    "\n",
    "grid, dgrid = recursive_grid(bounds, n_pts)\n",
    "\n",
    "print(grid.shape)"
   ]
  },
  {
   "cell_type": "markdown",
   "id": "9b922712",
   "metadata": {},
   "source": [
    "### `rejection_sampler`"
   ]
  },
  {
   "cell_type": "markdown",
   "id": "2881f0c3",
   "metadata": {},
   "source": [
    "This method implements a 1D rejection sampling algorithm. The probability density is passed as a callable, as well as the (eventual) selection function.\n",
    "\n",
    "Gaussian distribution:"
   ]
  },
  {
   "cell_type": "code",
   "execution_count": null,
   "id": "840e5af9",
   "metadata": {},
   "outputs": [],
   "source": [
    "from figaro.utils import rejection_sampler\n",
    "from scipy.stats import norm\n",
    "\n",
    "n_samples = 10000\n",
    "bounds = [-5,5]\n",
    "\n",
    "x = np.linspace(bounds[0], bounds[1], 1000)\n",
    "\n",
    "samples = rejection_sampler(n_samples, norm().pdf, bounds)\n",
    "\n",
    "plt.hist(samples, bins = int(np.sqrt(len(samples))), histtype = 'step', density = True)\n",
    "plt.plot(x, norm().pdf(x), lw = 0.7, color = 'r')"
   ]
  },
  {
   "cell_type": "markdown",
   "id": "8f17a5f3",
   "metadata": {},
   "source": [
    "$f(x) = 2x$ with selection function $g(x) = 1-x$, $x \\in[0,1]$:"
   ]
  },
  {
   "cell_type": "code",
   "execution_count": null,
   "id": "97999a5a",
   "metadata": {},
   "outputs": [],
   "source": [
    "from scipy.stats import uniform\n",
    "\n",
    "def probability_density(x):\n",
    "    return 2*x\n",
    "\n",
    "def selfunc(x):\n",
    "    return 1-x\n",
    "\n",
    "n_samples = 10000\n",
    "bounds = [0,1]\n",
    "\n",
    "x  = np.linspace(bounds[0], bounds[1], 1000)\n",
    "dx = x[1]-x[0]\n",
    "\n",
    "samples = rejection_sampler(n_samples, probability_density, bounds, selfunc = selfunc)\n",
    "\n",
    "plt.hist(samples, bins = int(np.sqrt(len(samples))), histtype = 'step', density = True)\n",
    "pdf = probability_density(x)*selfunc(x)\n",
    "plt.plot(x, pdf/np.sum(pdf*dx), lw = 0.7, color = 'r')"
   ]
  },
  {
   "cell_type": "markdown",
   "id": "bad8363d",
   "metadata": {},
   "source": [
    "### `get_priors`"
   ]
  },
  {
   "cell_type": "markdown",
   "id": "5bf2e56c",
   "metadata": {},
   "source": [
    "This method takes the prior parameters for the Normal-Inverse-Wishart distribution in the natural space and returns them as parameters in the probit space, ordered as required by FIGARO. In the following, $D$ will denote the dimensionality of the inferred distribution.\n",
    "\n",
    "Four parameters are returned:\n",
    "* $\\nu$, here denoted by `df`, is the number of degrees of freedom for the Inverse Wishart distribution,. It must be greater than $D+1$. If this parameter is `None` or does not satisfy the condition $\\nu > D+1$, the default value $D+2$ is used;\n",
    "* $k$ is the scale parameter for the multivariate Normal distribution. Suggested values are $k \\lesssim 10^{-1}$. If `None`, the default value $10^{-2}$ is used;\n",
    "* $\\mu$ is the mean of the multivariate Normal distribution. It can be either estimated from the available samples or passed directly as a 1D array with length $D$ (the keyword argument `mean` overrides the samples). If `None`, the default value 0 (corresponding to the parameter space center) is used;\n",
    "* $\\Lambda$ is the expected value for the Inverse Wishart distribution. This parameter can be either (in descending priority order):\n",
    "    * passed as 2D array with shape ($D$,$D$), the covariance matrix - keyword `cov`;\n",
    "    * passed as 1D array with shape ($D$,) or `double`: vector of standard deviations (if `double`, it assumes that the same std has to be used for all dimensions) - keyword `std`;\n",
    "    * estimated from samples - keyword `samples`.\n",
    "   \n",
    "The order in which they are returned is $(k,\\Lambda,\\nu,\\mu)$.\\\n",
    "A small fluctuation in $\\Lambda$ for subsequent calls with same argument is expected and it due to the fact that transforming a covariance matrix in probit space is nontrivial. In order to simplify the process, we decided to sample $10^4$ points from a multivariate Gaussian centered in $\\mu$ with the given covariance or std (still in natural space), transform the samples in probit space and use the covariance of the transformed samples as $\\Lambda$: from this, the fluctuations."
   ]
  },
  {
   "cell_type": "markdown",
   "id": "489c8816",
   "metadata": {},
   "source": [
    "Estimate from samples:"
   ]
  },
  {
   "cell_type": "code",
   "execution_count": null,
   "id": "37373960",
   "metadata": {},
   "outputs": [],
   "source": [
    "from figaro.utils import get_priors\n",
    "\n",
    "bounds = np.array([[-10,10]])\n",
    "samples = norm().rvs(1000)\n",
    "\n",
    "get_priors(bounds, samples = samples)"
   ]
  },
  {
   "cell_type": "markdown",
   "id": "79e30567",
   "metadata": {},
   "source": [
    "User-defined parameters (overrides samples):"
   ]
  },
  {
   "cell_type": "code",
   "execution_count": null,
   "id": "66ee7db7",
   "metadata": {},
   "outputs": [],
   "source": [
    "get_priors(bounds, \n",
    "           samples = samples, \n",
    "           mean = np.array([1]), \n",
    "           df = 10, \n",
    "           std = np.array([2]), \n",
    "           k = 1,\n",
    "          )"
   ]
  },
  {
   "cell_type": "markdown",
   "id": "26490f72",
   "metadata": {},
   "source": [
    "Default parameters:"
   ]
  },
  {
   "cell_type": "code",
   "execution_count": null,
   "id": "cef11de4",
   "metadata": {},
   "outputs": [],
   "source": [
    "get_priors(bounds)"
   ]
  },
  {
   "cell_type": "markdown",
   "id": "c1b74155",
   "metadata": {},
   "source": [
    "Same as above, with multiple dimensions:"
   ]
  },
  {
   "cell_type": "code",
   "execution_count": null,
   "id": "8f0c4556",
   "metadata": {},
   "outputs": [],
   "source": [
    "from scipy.stats import multivariate_normal as mn\n",
    "bounds = np.array([[-10,10],[-10,10]])\n",
    "\n",
    "samples = mn(np.zeros(2), np.identity(2)).rvs(1000)\n",
    "\n",
    "get_priors(bounds, samples = samples)"
   ]
  },
  {
   "cell_type": "markdown",
   "id": "2398b538",
   "metadata": {},
   "source": [
    "User-defined parameters:"
   ]
  },
  {
   "cell_type": "code",
   "execution_count": null,
   "id": "fde063bb",
   "metadata": {},
   "outputs": [],
   "source": [
    "get_priors(bounds, \n",
    "           samples = samples, \n",
    "           mean = np.array([1,1]), \n",
    "           df = 10, \n",
    "           std = np.array([2,2]), \n",
    "           k = 1,\n",
    "          )"
   ]
  },
  {
   "cell_type": "markdown",
   "id": "c25bbabf",
   "metadata": {},
   "source": [
    "`cov` keyword overrides `std` keyword:"
   ]
  },
  {
   "cell_type": "code",
   "execution_count": null,
   "id": "0415f59d",
   "metadata": {},
   "outputs": [],
   "source": [
    "get_priors(bounds, \n",
    "           samples = samples, \n",
    "           mean = np.array([1,1]), \n",
    "           df = 10, \n",
    "           std = \n",
    "           np.array([2,2]), \n",
    "           k = 1, \n",
    "           cov = np.array([[4,-1],[-1,4]]),\n",
    "          )"
   ]
  }
 ],
 "metadata": {
  "kernelspec": {
   "display_name": "Python 3 (ipykernel)",
   "language": "python",
   "name": "python3"
  },
  "language_info": {
   "codemirror_mode": {
    "name": "ipython",
    "version": 3
   },
   "file_extension": ".py",
   "mimetype": "text/x-python",
   "name": "python",
   "nbconvert_exporter": "python",
   "pygments_lexer": "ipython3",
   "version": "3.7.8"
  }
 },
 "nbformat": 4,
 "nbformat_minor": 5
}
