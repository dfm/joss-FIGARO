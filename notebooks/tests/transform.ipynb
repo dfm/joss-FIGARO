{
 "cells": [
  {
   "cell_type": "markdown",
   "id": "a2d48550",
   "metadata": {},
   "source": [
    "# `transform.py`"
   ]
  },
  {
   "cell_type": "markdown",
   "id": "8b423173",
   "metadata": {},
   "source": [
    "This notebook tests the `transform.py` module."
   ]
  },
  {
   "cell_type": "markdown",
   "id": "e6b4a410",
   "metadata": {},
   "source": [
    "This module implements the transformation\\\n",
    "$\n",
    "y(x) = \\Phi^{-1}\\Big(\\frac{x-x_{min}}{x_{max}-x_{min}}\\Big)\\,,\n",
    "$\\\n",
    "where $\\Phi^{-1}(x)$ denotes the inverse cdf of the 1D Gaussian distribution, along with its inverse\\\n",
    "$\n",
    "x(y) = x_{min} + (x_{max}-x_{min})\\Phi(y)\\,.\n",
    "$\\\n",
    "This transformation maps the interval $(x_{min}, x_{max})$ in $(-\\infty, \\infty)$ and it is singular at $x_{min}$ and $x_{max}$. Outside these points, the transformation is not defined.\n",
    "If the transformed points are defined on a N-dimensional space, the transformation is applied independently on every dimension.\n",
    "\n",
    "In the following, the initial (bounded) space will be called *natural* space, while the transformed space will be the *probit* space."
   ]
  },
  {
   "cell_type": "markdown",
   "id": "ae2480d0",
   "metadata": {},
   "source": [
    "## `transform_to_probit`"
   ]
  },
  {
   "cell_type": "markdown",
   "id": "5c48cd48",
   "metadata": {},
   "source": [
    "This method takes an array of points in natural space and applies the transformation element-wise."
   ]
  },
  {
   "cell_type": "code",
   "execution_count": null,
   "id": "db4cb9ed",
   "metadata": {},
   "outputs": [],
   "source": [
    "import numpy as np\n",
    "import matplotlib.pyplot as plt\n",
    "from figaro.transform import transform_to_probit\n",
    "\n",
    "x_min = 1\n",
    "x_max = 3\n",
    "\n",
    "bounds = np.array([[x_min, x_max]])\n",
    "x = np.linspace(x_min, x_max, 10000, endpoint = True)\n",
    "p = transform_to_probit(x, bounds)\n",
    "\n",
    "plt.plot(x, p)\n",
    "plt.xlabel('x')\n",
    "plt.ylabel('y(x)')\n",
    "plt.grid(True,dashes=(1,3))"
   ]
  },
  {
   "cell_type": "markdown",
   "id": "e152b6ed",
   "metadata": {},
   "source": [
    "It correctly returns $\\pm \\infty$ for $x_{min}$ and $x_{max}$:"
   ]
  },
  {
   "cell_type": "code",
   "execution_count": null,
   "id": "2f8e6d1e",
   "metadata": {},
   "outputs": [],
   "source": [
    "print('y(xmin) = {0}, y(xmax) = {1}'.format(p[0], p[-1]))"
   ]
  },
  {
   "cell_type": "markdown",
   "id": "231d28aa",
   "metadata": {},
   "source": [
    "If the points fall outside the boundaries, it returns NaNs:"
   ]
  },
  {
   "cell_type": "code",
   "execution_count": null,
   "id": "8c9ccf07",
   "metadata": {},
   "outputs": [],
   "source": [
    "transform_to_probit(np.array([0,5]), bounds)"
   ]
  },
  {
   "cell_type": "markdown",
   "id": "45e16bad",
   "metadata": {},
   "source": [
    "## `transform_from_probit`"
   ]
  },
  {
   "cell_type": "markdown",
   "id": "0212e73e",
   "metadata": {},
   "source": [
    "This method takes an array of values in probit space and applies the antitransformation element-wise."
   ]
  },
  {
   "cell_type": "code",
   "execution_count": null,
   "id": "d5a29e2e",
   "metadata": {},
   "outputs": [],
   "source": [
    "from figaro.transform import transform_from_probit\n",
    "\n",
    "y = np.linspace(-10,10, 1000)\n",
    "p = transform_from_probit(y, bounds)\n",
    "\n",
    "plt.plot(y, p)\n",
    "plt.xlabel('y')\n",
    "plt.ylabel('x(y)')\n",
    "plt.grid(True,dashes=(1,3))"
   ]
  },
  {
   "cell_type": "markdown",
   "id": "f704d1bb",
   "metadata": {},
   "source": [
    "The antitransformation behaves as expected at $\\pm \\infty$:"
   ]
  },
  {
   "cell_type": "code",
   "execution_count": null,
   "id": "714de29d",
   "metadata": {},
   "outputs": [],
   "source": [
    "transform_from_probit(np.array([-np.inf, np.inf]), bounds)"
   ]
  },
  {
   "cell_type": "markdown",
   "id": "8b24ec95",
   "metadata": {},
   "source": [
    "Let's check that the antitransformation is the exact inverse of the transformation:"
   ]
  },
  {
   "cell_type": "code",
   "execution_count": null,
   "id": "be8cbc92",
   "metadata": {},
   "outputs": [],
   "source": [
    "X = transform_from_probit(transform_to_probit(x, bounds), bounds)\n",
    "\n",
    "fig, (ax,res) = plt.subplots(2, 1, gridspec_kw={'height_ratios': [3, 1]}, sharex = True, figsize = (10,5))\n",
    "\n",
    "ax.plot(x, X, ls = '--', lw = 0.8)\n",
    "ax.set_ylabel('$x_t$')\n",
    "ax.grid(True,dashes=(1,3))\n",
    "res.plot(x,X-x, ls = '--', color = 'k', lw = 0.3)\n",
    "res.set_ylabel('$x_t-x$')\n",
    "res.set_xlabel('$x$')\n",
    "res.grid(True,dashes=(1,3))"
   ]
  }
 ],
 "metadata": {
  "kernelspec": {
   "display_name": "Python 3 (ipykernel)",
   "language": "python",
   "name": "python3"
  },
  "language_info": {
   "codemirror_mode": {
    "name": "ipython",
    "version": 3
   },
   "file_extension": ".py",
   "mimetype": "text/x-python",
   "name": "python",
   "nbconvert_exporter": "python",
   "pygments_lexer": "ipython3",
   "version": "3.7.8"
  }
 },
 "nbformat": 4,
 "nbformat_minor": 5
}
