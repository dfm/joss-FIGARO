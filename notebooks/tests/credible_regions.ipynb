{
 "cells": [
  {
   "cell_type": "markdown",
   "id": "08edc34a",
   "metadata": {},
   "source": [
    "# `credible_regions.py`"
   ]
  },
  {
   "cell_type": "markdown",
   "id": "865257e3",
   "metadata": {},
   "source": [
    "This notebook tests the `credible_regions` module.\n",
    "\n",
    "This module contains the methods FIGARO uses to determine the 1-, 2- and 3-D credible regions."
   ]
  },
  {
   "cell_type": "markdown",
   "id": "54c1065a",
   "metadata": {},
   "source": [
    "## `FindNearest`"
   ]
  },
  {
   "cell_type": "markdown",
   "id": "cda367f1",
   "metadata": {},
   "source": [
    "This function returns the indices of the closest 3D grid point to the passed ra, dec, dist values (the coordinates of the true host).\n",
    "The printed values are the distances of the selected grid point and its neighbors from the true host divided by the grid spacing."
   ]
  },
  {
   "cell_type": "code",
   "execution_count": 1,
   "id": "b8464a8e",
   "metadata": {},
   "outputs": [
    {
     "name": "stdout",
     "output_type": "stream",
     "text": [
      "RA:  [1.23767751 0.23767751 0.76232249]\n",
      "dec: [1.37520775 0.37520775 0.62479225]\n",
      "DL:  [0.97640155 0.02359845 1.02359845]\n"
     ]
    }
   ],
   "source": [
    "import numpy as np\n",
    "from figaro.credible_regions import FindNearest\n",
    "\n",
    "dmax = 100\n",
    "\n",
    "ra   = np.linspace(0,2*np.pi, 720)\n",
    "dra  = ra[1]-ra[0]\n",
    "dec  = np.linspace(-np.pi/2, np.pi/2., 360)\n",
    "ddec = dec[1]-dec[0]\n",
    "dist = np.linspace(0, dmax, 100)\n",
    "dD   = dist[1]-dist[0]\n",
    "\n",
    "true_host = np.array([np.random.uniform(0,2*np.pi), np.random.uniform(-np.pi/2., np.pi/2.), np.random.uniform(0, dmax)])\n",
    "\n",
    "idx = FindNearest(ra, dec, dist, true_host)\n",
    "\n",
    "for i, (var, ar, diff) in enumerate(zip(['RA: ', 'dec:', 'DL: '], [ra, dec, dist], [dra, ddec, dD])):\n",
    "    print(var, abs(ar[np.array([idx[i]-1, idx[i], idx[i]+1])] - true_host[i])/diff)"
   ]
  },
  {
   "cell_type": "markdown",
   "id": "6f71dbb1",
   "metadata": {},
   "source": [
    "## `FindHeights`"
   ]
  },
  {
   "cell_type": "markdown",
   "id": "1325bf10",
   "metadata": {},
   "source": [
    "This method returns the probability value associated with a certain credible level.\\\n",
    "It is meant to work with multidimensional distributions, for which a prescription is required to get the cdf: ours is to sort the probability bins in decreasing order and carry out the integration accordingly. Therefore, the logpdf passed to `FindHeight` must be in decreasing order, and the logcdf must be obtained according to our convention.\n",
    "\n",
    "We will test the method with a 1D standard Gaussian distribution."
   ]
  },
  {
   "cell_type": "code",
   "execution_count": 2,
   "id": "3a870725",
   "metadata": {},
   "outputs": [
    {
     "name": "stdout",
     "output_type": "stream",
     "text": [
      "1-sigma: [-0.99959996  0.99959996]\n",
      "2-sigma: [-1.99969997  1.99969997]\n",
      "3-sigma: [-2.99979998  2.99979998]\n"
     ]
    }
   ],
   "source": [
    "from scipy.stats import norm\n",
    "from figaro.credible_regions import FindHeights\n",
    "\n",
    "# https://en.wikipedia.org/wiki/68–95–99.7_rule#Table_of_numerical_values\n",
    "level_1sigma = 0.6827\n",
    "level_2sigma = 0.9545\n",
    "level_3sigma = 0.9973\n",
    "\n",
    "levels = [level_1sigma, level_2sigma, level_3sigma]\n",
    "\n",
    "x  = np.linspace(-5,5,10000)\n",
    "dx = x[1]-x[0]\n",
    "\n",
    "p        = norm().pdf(x)*dx\n",
    "sorted_p = np.sort(p)[::-1]\n",
    "cdf      = np.cumsum(sorted_p)\n",
    "\n",
    "logpdf = np.log(sorted_p)\n",
    "logcdf = np.log(cdf)\n",
    "\n",
    "for i, l in enumerate(levels):\n",
    "    print('{0}-sigma:'.format(i+1), x[np.where(np.log(p) == FindHeights((logpdf, logcdf, l)))])"
   ]
  },
  {
   "cell_type": "markdown",
   "id": "002856e0",
   "metadata": {},
   "source": [
    "## `FindHeightForLevel`"
   ]
  },
  {
   "cell_type": "markdown",
   "id": "7ccd9600",
   "metadata": {},
   "source": [
    "This method finds the probability value associated with a certain credible level. Differently from `FindHeights`, the cdf is computed by the method itself.\\\n",
    "As above, it is tested with the standard Gaussian distribution."
   ]
  },
  {
   "cell_type": "code",
   "execution_count": 3,
   "id": "89f176ea",
   "metadata": {
    "scrolled": true
   },
   "outputs": [
    {
     "name": "stdout",
     "output_type": "stream",
     "text": [
      "1-sigma: [-0.99959996  0.99959996]\n",
      "2-sigma: [-1.99969997  1.99969997]\n",
      "3-sigma: [2.99979998]\n"
     ]
    }
   ],
   "source": [
    "from figaro.credible_regions import FindHeightForLevel\n",
    "\n",
    "logP = norm().logpdf(x)\n",
    "hs   = FindHeightForLevel(logP, levels, np.log(dx))\n",
    "\n",
    "for i, h in enumerate(hs):\n",
    "    print('{0}-sigma:'.format(i+1), x[np.where(logP == h)])"
   ]
  },
  {
   "cell_type": "markdown",
   "id": "6831f21a",
   "metadata": {},
   "source": [
    "For 2D standard Gaussian distribution, the level corresponding to $n$-sigma is:\\\n",
    "$\n",
    "L = \\int_0^{2\\pi}\\int_0^n \\frac{r}{2\\pi}e^{-r^2/2}dr d\\theta = 1 - e^{-n^2/2} \\,.\n",
    "$"
   ]
  },
  {
   "cell_type": "code",
   "execution_count": 4,
   "id": "d1728f5c",
   "metadata": {},
   "outputs": [
    {
     "name": "stdout",
     "output_type": "stream",
     "text": [
      "1-sigma: 0.9998937837936026\n",
      "2-sigma: 2.0000107303959265\n",
      "3-sigma: 2.9999068008181355\n"
     ]
    },
    {
     "data": {
      "image/png": "[encoded data removed]",
      "text/plain": [
       "<Figure size 360x360 with 1 Axes>"
      ]
     },
     "metadata": {
      "needs_background": "light"
     },
     "output_type": "display_data"
    }
   ],
   "source": [
    "from scipy.stats import multivariate_normal as mn\n",
    "import matplotlib.pyplot as plt\n",
    "\n",
    "def compute_L(n):\n",
    "    return 1-np.exp(-n**2/2.)\n",
    "\n",
    "# Make grid\n",
    "y = np.linspace(-4,4,2000)\n",
    "z = np.linspace(-4,4,2000)\n",
    "dy = y[1]-y[0]\n",
    "dz = z[1]-z[0]\n",
    "\n",
    "grid = []\n",
    "for yi in y:\n",
    "    for zi in z:\n",
    "        grid.append([yi,zi])\n",
    "grid = np.array(grid)\n",
    "\n",
    "# Compute heights\n",
    "logP_2d = mn(np.zeros(2), np.identity(2)).logpdf(grid)\n",
    "L       = compute_L(np.array([1,2,3]))\n",
    "\n",
    "hs = FindHeightForLevel(logP_2d, L, np.log(dy)+np.log(dz))\n",
    "\n",
    "# Make plot\n",
    "fig = plt.figure(figsize = (5,5))\n",
    "ax  = fig.add_subplot(111)\n",
    "\n",
    "for i, h in enumerate(hs):\n",
    "    pts  = grid[np.where(np.isclose(logP_2d, h, atol = 1e-3, rtol = 0))]\n",
    "    dist = np.sqrt(np.mean(np.sum(pts**2, axis = 1)))\n",
    "    print('{0}-sigma:'.format(i+1), dist)\n",
    "    ax.scatter(pts[:,0], pts[:,1], label = '${0}\\\\sigma$'.format(i+1))\n",
    "\n",
    "ax.legend(loc=0, frameon=False)\n",
    "ax.grid()"
   ]
  },
  {
   "cell_type": "markdown",
   "id": "e9c8e2fe",
   "metadata": {},
   "source": [
    "## `FindLevelForHeight`"
   ]
  },
  {
   "cell_type": "markdown",
   "id": "c93c111e",
   "metadata": {},
   "source": [
    "This module does the inverse of the previous one, finding the credible level corresponding to a certain probability value.\\\n",
    "The following example computes the credible levels for 1, 2 and 3 sigmas of the 1D standard Gaussian:"
   ]
  },
  {
   "cell_type": "code",
   "execution_count": 5,
   "id": "c50c0c3d",
   "metadata": {},
   "outputs": [
    {
     "name": "stdout",
     "output_type": "stream",
     "text": [
      "1-sigma: FIGARO 0.6825, expected 0.6827\n",
      "2-sigma: FIGARO 0.9545, expected 0.9545\n",
      "3-sigma: FIGARO 0.9973, expected 0.9973\n"
     ]
    }
   ],
   "source": [
    "from figaro.credible_regions import FindLevelForHeight\n",
    "\n",
    "hs = norm().logpdf(np.array([1,2,3]))\n",
    "\n",
    "for i, (h, l) in enumerate(zip(hs, levels)):\n",
    "    print('{0}-sigma: FIGARO {1:.4f}, expected {2}'.format(i+1, FindLevelForHeight(logP, h, np.log(dx)), l))"
   ]
  },
  {
   "cell_type": "markdown",
   "id": "3ca67653",
   "metadata": {},
   "source": [
    "Same with the 2D standard Gaussian:"
   ]
  },
  {
   "cell_type": "code",
   "execution_count": 6,
   "id": "a170cece",
   "metadata": {},
   "outputs": [
    {
     "name": "stdout",
     "output_type": "stream",
     "text": [
      "1-sigma: FIGARO 0.3935, expected 0.3935\n",
      "2-sigma: FIGARO 0.8647, expected 0.8647\n",
      "3-sigma: FIGARO 0.9889, expected 0.9889\n"
     ]
    }
   ],
   "source": [
    "hs = mn(np.zeros(2), np.identity(2)).logpdf(np.array([[0,1], [0,2], [0,3]]))\n",
    "\n",
    "for i, (h, l) in enumerate(zip(hs, L)):\n",
    "    print('{0}-sigma: FIGARO {1:.4f}, expected {2:.4f}'.format(i+1, FindLevelForHeight(logP_2d, h, np.log(dy)+np.log(dz)), l))"
   ]
  },
  {
   "cell_type": "markdown",
   "id": "46948d76",
   "metadata": {},
   "source": [
    "## `ConfidenceVolume`"
   ]
  },
  {
   "cell_type": "markdown",
   "id": "6231b7d2",
   "metadata": {},
   "source": [
    "This module computes the volume enclosed within a certain credible level. This method is meant to work with skymaps, therefore it requires celestial coordinates.\n",
    "\n",
    "Let's test this module with the 3D standard Gaussian distribution. \n",
    "\n",
    "The volume within the n-$\\sigma$ credible region is $\\frac{4}{3}\\pi n^3$."
   ]
  },
  {
   "cell_type": "code",
   "execution_count": 7,
   "id": "c4a0437f",
   "metadata": {
    "scrolled": false
   },
   "outputs": [
    {
     "name": "stdout",
     "output_type": "stream",
     "text": [
      "1-sigma: FIGARO 4.220, expected 4.189\n",
      "2-sigma: FIGARO 33.630, expected 33.510\n",
      "3-sigma: FIGARO 113.212, expected 113.097\n",
      "max R for 1-sigma: 1.0\n",
      "max R for 2-sigma: 2.0\n",
      "max R for 3-sigma: 3.0\n"
     ]
    }
   ],
   "source": [
    "from figaro.credible_regions import ConfidenceVolume\n",
    "from figaro.coordinates import celestial_to_cartesian\n",
    "\n",
    "from scipy.special import erf\n",
    "def compute_L_3d(n):\n",
    "    return erf(n/np.sqrt(2)) - np.sqrt(2/np.pi)*n*np.exp(-n**2/2.)\n",
    "\n",
    "ra   = np.linspace(0,2*np.pi, 72, endpoint = False)\n",
    "dra  = ra[1]-ra[0]\n",
    "dec  = np.linspace(-np.pi/2, np.pi/2., 72)\n",
    "ddec = dec[1]-dec[0]\n",
    "dist = np.linspace(0, 5, 1001)[1:]\n",
    "dD   = dist[1]-dist[0]\n",
    "\n",
    "# For loops\n",
    "grid = []\n",
    "measure = []\n",
    "for ra_i in ra:\n",
    "    for dec_i in dec:\n",
    "        for d_i in dist:\n",
    "            grid.append(np.array([ra_i, dec_i, d_i]))\n",
    "            measure.append(np.cos(dec_i)*d_i**2)\n",
    "celestial_grid = np.array(grid)\n",
    "measure = np.log(measure)\n",
    "\n",
    "logP = mn(np.zeros(3), np.identity(3)).logpdf(celestial_to_cartesian(celestial_grid)) + np.log(3)\n",
    "levels_3d = compute_L_3d(np.array([1, 2, 3]))\n",
    "vols, idxs, heights = ConfidenceVolume(logP.reshape(len(ra), len(dec), len(dist)), ra, dec, dist, measure.reshape(len(ra), len(dec), len(dist)), levels_3d)\n",
    "\n",
    "for i, v in enumerate(vols):\n",
    "    print('{0}-sigma: FIGARO {1:.3f}, expected {2:.3f}'.format(i+1, v, 4*np.pi/3*(i+1)**3))\n",
    "\n",
    "for i in range(len(vols)):\n",
    "    grid_idx = []\n",
    "    for idx in idxs[i]:\n",
    "        grid_idx.append(idx[0]*len(dec)*len(dist)+idx[1]*len(dist)+idx[2])\n",
    "    pts = celestial_grid[grid_idx]\n",
    "    print('max R for {0}-sigma: {1}'.format(i+1, np.max(pts[:,2])))"
   ]
  },
  {
   "cell_type": "markdown",
   "id": "45a322bb",
   "metadata": {},
   "source": [
    "## `ConfidenceArea`"
   ]
  },
  {
   "cell_type": "markdown",
   "id": "a9a38ee1",
   "metadata": {},
   "source": [
    "This module computes the area enclosed within a certain credible region across a skymap.\n",
    "\n",
    "We are testing this module using the uniform distribution and asking for the 100% credible region. In this situation, what we get is the whole sky area, in $\\mathrm{deg}^2$."
   ]
  },
  {
   "cell_type": "code",
   "execution_count": 8,
   "id": "32fddbf1",
   "metadata": {},
   "outputs": [
    {
     "name": "stdout",
     "output_type": "stream",
     "text": [
      "all-sky: FIGARO 41252.896, expected 41252.961\n"
     ]
    }
   ],
   "source": [
    "from figaro.credible_regions import ConfidenceArea\n",
    "\n",
    "ra   = np.linspace(0,2*np.pi, 720, endpoint = False)\n",
    "dra  = ra[1]-ra[0]\n",
    "dec  = np.linspace(-np.pi/2, np.pi/2., 720)\n",
    "ddec = dec[1]-dec[0]\n",
    "\n",
    "\n",
    "# For loops\n",
    "grid = []\n",
    "measure = []\n",
    "for ra_i in ra:\n",
    "    for dec_i in dec:\n",
    "        grid.append(np.array([ra_i, dec_i]))\n",
    "        measure.append(np.cos(dec_i))\n",
    "grid_2d = np.array(grid)\n",
    "measure_2d = np.log(measure)\n",
    "\n",
    "sigma = 0.1\n",
    "logP = np.zeros(len(grid))\n",
    "levels_2d = [1e-100]\n",
    "\n",
    "areas, idxs, heights = ConfidenceArea(logP.reshape(len(ra), len(dec)), ra, dec, measure_2d.reshape(len(ra), len(dec)), levels_2d)\n",
    "\n",
    "for i, a in enumerate(areas):\n",
    "    print('all-sky: FIGARO {1:.3f}, expected {2:.3f}'.format(i+1, a, 4*np.pi*(180/np.pi)**2))"
   ]
  }
 ],
 "metadata": {
  "kernelspec": {
   "display_name": "Python 3 (ipykernel)",
   "language": "python",
   "name": "python3"
  },
  "language_info": {
   "codemirror_mode": {
    "name": "ipython",
    "version": 3
   },
   "file_extension": ".py",
   "mimetype": "text/x-python",
   "name": "python",
   "nbconvert_exporter": "python",
   "pygments_lexer": "ipython3",
   "version": "3.7.8"
  }
 },
 "nbformat": 4,
 "nbformat_minor": 5
}
