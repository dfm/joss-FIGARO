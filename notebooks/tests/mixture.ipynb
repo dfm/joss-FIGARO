{
 "cells": [
  {
   "cell_type": "markdown",
   "id": "b138ab1b",
   "metadata": {},
   "source": [
    "# `mixture.py`"
   ]
  },
  {
   "cell_type": "markdown",
   "id": "6bd93e72",
   "metadata": {},
   "source": [
    "This notebook tests the `mixture` module.\n",
    "\n",
    "This module contains the classes to reconstruct a probability density and some utility functions."
   ]
  },
  {
   "cell_type": "markdown",
   "id": "b2c83e0e",
   "metadata": {},
   "source": [
    "## Utilities"
   ]
  },
  {
   "cell_type": "markdown",
   "id": "6e224758",
   "metadata": {},
   "source": [
    "### `numba_gammaln`"
   ]
  },
  {
   "cell_type": "markdown",
   "id": "3164308f",
   "metadata": {},
   "source": [
    "This function is a Numba wrapper for the Cython implementation of `scipy.special.gammaln`, takes a double as input. "
   ]
  },
  {
   "cell_type": "code",
   "execution_count": null,
   "id": "78f06061",
   "metadata": {},
   "outputs": [],
   "source": [
    "import numpy as np\n",
    "from figaro.mixture import _numba_gammaln\n",
    "from scipy.special import gammaln\n",
    "\n",
    "x = 0.5\n",
    "\n",
    "# Numba first run is significantly slower due to compilation\n",
    "_ = _numba_gammaln(x)\n",
    "\n",
    "print(\"Scipy:\")\n",
    "%timeit gammaln(x)\n",
    "print(\"Numba:\")\n",
    "%timeit _numba_gammaln(x)\n",
    "\n",
    "y = np.arange(0.1,5, 1000)\n",
    "\n",
    "numba_val = np.array([_numba_gammaln(yi) for yi in y])\n",
    "scipy_val = gammaln(y)\n",
    "\n",
    "np.alltrue(numba_val == scipy_val)"
   ]
  },
  {
   "cell_type": "markdown",
   "id": "5ee112b8",
   "metadata": {},
   "source": [
    "### `student_t`"
   ]
  },
  {
   "cell_type": "markdown",
   "id": "b8472ab4",
   "metadata": {},
   "source": [
    "[G. Gundersen's implementation](http://gregorygundersen.com/blog/2020/01/20/multivariate-t/) of multivariate Student-t distribution (pulled to Scipy). This function takes 2d arrays as inputs (as FIGARO)."
   ]
  },
  {
   "cell_type": "code",
   "execution_count": null,
   "id": "b05920b0",
   "metadata": {},
   "outputs": [],
   "source": [
    "from figaro.mixture import _student_t\n",
    "from scipy.stats import multivariate_t\n",
    "\n",
    "# Parameters\n",
    "df    = 5\n",
    "dim   = 3\n",
    "t     = np.ones(dim)*0.5\n",
    "mu    = np.ones(dim)\n",
    "sigma = np.identity(dim)*0.7**2\n",
    "\n",
    "# Instance multivariate_t\n",
    "scipy_t = multivariate_t(loc = mu, shape = sigma, df = df)\n",
    "\n",
    "# Numba first run is significantly slower due to compilation\n",
    "_ = _student_t(df = df, t = np.atleast_2d(t), mu = mu, sigma = sigma, dim = dim)\n",
    "\n",
    "print(\"Scipy:\")\n",
    "%timeit scipy_t.logpdf(t)\n",
    "# FIGARO handles 2d arrays\n",
    "t  = np.atleast_2d(t)\n",
    "mu = np.atleast_2d(mu)\n",
    "print(\"Numba:\")\n",
    "%timeit _student_t(df = df, t = t, mu = mu, sigma = sigma, dim = dim)\n",
    "\n",
    "T = scipy_t.rvs(1000)\n",
    "scipy_val = np.array([scipy_t.logpdf(ti) for ti in T])\n",
    "T = np.array([np.atleast_2d(ti) for ti in T])\n",
    "numba_val = np.array([_student_t(df = df, t = ti, mu = mu, sigma = sigma, dim = dim) for ti in T])\n",
    "\n",
    "np.allclose(numba_val, scipy_val, atol = 1e-15)\n"
   ]
  },
  {
   "cell_type": "markdown",
   "id": "91e74d6f",
   "metadata": {},
   "source": [
    "### `update_alpha`"
   ]
  },
  {
   "cell_type": "markdown",
   "id": "8e67e118",
   "metadata": {},
   "source": [
    "MH sampler for concentration parameter. Implements likelihood in Eq. (3.6) of [Rinaldi & Del Pozzo (2022a)](https://arxiv.org/pdf/2109.05960.pdf):\\\n",
    "$\n",
    "p(\\alpha|K,n) \\propto \\frac{\\Gamma(\\alpha)}{\\Gamma(n+\\alpha)} \\alpha^K e^{-1/\\alpha}\\,.\n",
    "$\\\n",
    "`alpha` is the initial value for concentration parameter, `n` the number of samples inclued in the mixture and `K` is the number of active components. Since for the inference algorithm we need only one `alpha` sample per iteration, this method returns only one draw from the distribution."
   ]
  },
  {
   "cell_type": "code",
   "execution_count": null,
   "id": "641da785",
   "metadata": {},
   "outputs": [],
   "source": [
    "from figaro.mixture import update_alpha\n",
    "from scipy.special import gammaln, logsumexp\n",
    "\n",
    "def prob_alpha(a, k, n):\n",
    "    return gammaln(a) - gammaln(a+n) + k*np.log(a) - 1/a\n",
    "\n",
    "alpha0 = 1\n",
    "n = 300\n",
    "K = 20\n",
    "n_draws = 10000\n",
    "\n",
    "A = [alpha0]\n",
    "for i in range(n_draws):\n",
    "    A.append(update_alpha(A[-1], n, K))\n",
    "A = np.array(A)\n",
    "\n",
    "import matplotlib.pyplot as plt\n",
    "alphas = np.linspace(0,np.max(A),1001)[1:]\n",
    "plt.hist(A, bins = int(np.sqrt(n_draws+1)), histtype = 'step', density = True, label = '$\\\\mathrm{samples}$')\n",
    "\n",
    "p = prob_alpha(alphas, K, n)\n",
    "\n",
    "plt.plot(alphas, np.exp(p - logsumexp(p) - np.log(alphas[1]-alphas[0])), lw = 0.8, c = 'r', label = '$K = {0},\\ n={1}$'.format(K,n))\n",
    "plt.xlabel('$\\\\alpha$')\n",
    "plt.ylabel('$p(\\\\alpha|K,n)$')\n",
    "plt.legend(loc = 0, frameon = False)\n",
    "plt.grid(alpha = 0.5)"
   ]
  },
  {
   "cell_type": "markdown",
   "id": "94b9255d",
   "metadata": {},
   "source": [
    "The samples are uncorrelated:"
   ]
  },
  {
   "cell_type": "code",
   "execution_count": null,
   "id": "40a0fd86",
   "metadata": {},
   "outputs": [],
   "source": [
    "def autocorrelation(v, tau, l, m, s):\n",
    "    return np.mean([(v[i]-m)*(v[(i+tau)%l]-m) for i in range(l)])/s\n",
    "\n",
    "m = np.mean(A)\n",
    "s = np.var(A-m)\n",
    "C = []\n",
    "\n",
    "max_tau = 100\n",
    "\n",
    "taus = np.arange(0, np.min([max_tau, n_draws//2]))\n",
    "for t in taus:\n",
    "    C.append(autocorrelation(A, t, n_draws, m, s))\n",
    "C = np.array(C)\n",
    "    \n",
    "plt.axhline(0, lw = 0.5, ls = '--')\n",
    "plt.plot(taus, C, lw = 0.7)\n",
    "plt.xlabel('$\\\\tau$')\n",
    "plt.ylabel('$C(\\\\tau)$')\n",
    "plt.grid(alpha = 0.5)"
   ]
  },
  {
   "cell_type": "markdown",
   "id": "1b973912",
   "metadata": {},
   "source": [
    "### `compute_component_suffstats`"
   ]
  },
  {
   "cell_type": "markdown",
   "id": "d7765def",
   "metadata": {},
   "source": [
    "This method iteratively updates mean and scatter matrix of the samples assigned to a cluster and returns them along with the expected values for mean and covariance matrix of the cluster given a NIW prior. \n",
    "\n",
    "Here we will check that the updated mean and covariance are the same as they were computed directly with all the samples."
   ]
  },
  {
   "cell_type": "code",
   "execution_count": null,
   "id": "63075206",
   "metadata": {},
   "outputs": [],
   "source": [
    "from figaro.mixture import compute_component_suffstats\n",
    "\n",
    "dim = 3\n",
    "n_draws = 100\n",
    "\n",
    "samples = np.random.uniform(size = (n_draws, dim))\n",
    "p_mu = np.zeros(dim)\n",
    "p_L  = np.identity(dim)\n",
    "p_k  = 1e-2\n",
    "p_nu = 5\n",
    "\n",
    "means      = [samples[0]]\n",
    "covs       = [np.zeros(shape = (dim, dim))]\n",
    "iter_means = [samples[0]]\n",
    "iter_covs  = [np.zeros(shape = (dim, dim))]\n",
    "\n",
    "for i in range(1,n_draws):\n",
    "    # Mean\n",
    "    means.append(np.mean(samples[:i+1], axis = 0))\n",
    "    # Scatter matrix\n",
    "    c = np.zeros(shape = (dim,dim))\n",
    "    for vi in samples[:i+1]:\n",
    "        c += (vi - means[-1]).T@(vi - means[-1])\n",
    "    covs.append(c)\n",
    "    # FIGARO\n",
    "    n_mean, n_cov, N, n_mu, n_sigma = compute_component_suffstats(samples[i], iter_means[-1], iter_covs[-1], i, p_mu, p_k, p_nu, p_L)\n",
    "    iter_means.append(n_mean)\n",
    "    iter_covs.append(n_cov)\n",
    "\n",
    "\n",
    "print('Mean: {0}'.format(np.allclose(means, iter_means, atol = 1e-15)))\n",
    "print('Scatter matrix: {0}'.format(np.allclose(covs, iter_covs, atol = 1e-15)))"
   ]
  }
 ],
 "metadata": {
  "kernelspec": {
   "display_name": "Python 3 (ipykernel)",
   "language": "python",
   "name": "python3"
  },
  "language_info": {
   "codemirror_mode": {
    "name": "ipython",
    "version": 3
   },
   "file_extension": ".py",
   "mimetype": "text/x-python",
   "name": "python",
   "nbconvert_exporter": "python",
   "pygments_lexer": "ipython3",
   "version": "3.7.8"
  }
 },
 "nbformat": 4,
 "nbformat_minor": 5
}
