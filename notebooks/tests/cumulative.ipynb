{
 "cells": [
  {
   "cell_type": "markdown",
   "id": "c08bdbe9",
   "metadata": {},
   "source": [
    "# `cumulative.pyx`"
   ]
  },
  {
   "cell_type": "markdown",
   "id": "30186279",
   "metadata": {},
   "source": [
    "This notebook tests the `cumulative.pyx` module.\n",
    "\n",
    "This module provides two python methods, `fast_cumulative` and `fast_log_cumulative`, that returns respectively the cumulative of a function and its logarithm. Since it is meant to be used on probability distributions, the passed function is assumed to be normalised. Therefore, these methods set $\\mathrm{cdf}(x_{max}) = 1$. "
   ]
  },
  {
   "cell_type": "markdown",
   "id": "4f009b2f",
   "metadata": {},
   "source": [
    "## `fast_cumulative`"
   ]
  },
  {
   "cell_type": "markdown",
   "id": "6e4327a7",
   "metadata": {},
   "source": [
    "We will compare the outcome of this method with the cdf of a distribution whose cdf has an analytical form:\\\n",
    "$\n",
    "f(x) = 2x,\\\\F(x) = \\int_0^x 2y dy = x^2,\n",
    "$\n",
    "for $x \\in [0,1]$. "
   ]
  },
  {
   "cell_type": "code",
   "execution_count": null,
   "id": "54374102",
   "metadata": {},
   "outputs": [],
   "source": [
    "import numpy as np\n",
    "import matplotlib.pyplot as plt\n",
    "from figaro.cumulative import fast_cumulative\n",
    "\n",
    "def cdf_2x(x):\n",
    "    return x**2\n",
    "\n",
    "def pdf(x):\n",
    "    return 2*x\n",
    "\n",
    "x   = np.linspace(0,1,10000)\n",
    "dx  = x[1]-x[0]\n",
    "p   = pdf(x)\n",
    "cdf = cdf_2x(x)\n",
    "cdf_figaro = fast_cumulative(p*dx)\n",
    "\n",
    "fig, (ax,res) = plt.subplots(2, 1, gridspec_kw={'height_ratios': [3, 1]}, sharex = True, figsize = (10,5))\n",
    "\n",
    "ax.plot(x, cdf, ls = '--', lw = 0.8, label = \"$x^2$\")\n",
    "ax.plot(x, cdf_figaro, ls = '-.', lw = 0.8, label = \"$\\mathrm{FIGARO}$\")\n",
    "ax.set_ylabel('$cdf(x)$')\n",
    "ax.grid(True,dashes=(1,3))\n",
    "ax.legend(loc = 0, frameon= False)\n",
    "res.plot(x, cdf_figaro-cdf, ls = '--', color = 'k', lw = 0.3)\n",
    "res.set_ylabel('$cdf_{F} - cdf$')\n",
    "res.set_xlabel('$x$')\n",
    "res.grid(True,dashes=(1,3))\n",
    "\n",
    "np.alltrue(cdf==cdf_figaro)"
   ]
  },
  {
   "cell_type": "markdown",
   "id": "424bed8c",
   "metadata": {},
   "source": [
    "The difference between the analytical cdf and the one obtained with our module is due to numerical integration error.\n",
    "In general,\\\n",
    "$\n",
    "e(n) = \\sum_i^n f(x_i)\\Delta x - \\int_{x_i}^{x_i+\\Delta n} f(y)dy = \\sum_i^n f(x_i) - \\Big[F(x_i + \\Delta x) - F(x_i)\\Big]\\,,\n",
    "$\\\n",
    "where $F(x) = \\int f(x)$. Expanding $F(x)$ around $x_i$ we get:\\\n",
    "$\n",
    "e(n) = \\sum_i^n f(x_i) \\Delta x - \\Big[F(x_i) + f(x_i)\\Delta x - F(x_i) + \\sum_{j=1}^{\\infty}\\frac{f^{(j-1)}(x_i)}{j!}\\Delta x^j\\Big] = \\sum_i^n \\sum_{j=1}^{\\infty}\\frac{f^{(j-1)}(x_i)}{j!}\\Delta x^j\n",
    "$\\\n",
    "For polynomial pdfs, since the Taylor series contains a finite number of terms, we can correct for the integration error:\\\n",
    "$\n",
    "e(n) = \\sum_i^n \\Big(2x_i\\Delta x - \\int_{x_i}^{x_i+\\Delta n} 2ydy\\Big) = \\sum_i^n\\Delta x^2 = n\\Delta x^2\\,.\n",
    "$\\\n",
    "Accounting for this correction:"
   ]
  },
  {
   "cell_type": "code",
   "execution_count": null,
   "id": "94f511a9",
   "metadata": {},
   "outputs": [],
   "source": [
    "error = dx**2*np.arange(len(cdf))\n",
    "\n",
    "plt.plot(x, cdf_figaro-cdf-error, ls = '--', color = 'k', lw = 0.3)\n",
    "plt.ylabel('$cdf_{F} - cdf$')\n",
    "plt.xlabel('$x$')\n",
    "plt.grid(True,dashes=(1,3))\n",
    "\n",
    "np.allclose(cdf+error, cdf_figaro, atol = 2e-15, rtol = 0)"
   ]
  },
  {
   "cell_type": "markdown",
   "id": "5288fe7b",
   "metadata": {},
   "source": [
    "Same exercise with the Gaussian cdf:"
   ]
  },
  {
   "cell_type": "code",
   "execution_count": null,
   "id": "c0e88a0f",
   "metadata": {},
   "outputs": [],
   "source": [
    "from scipy.stats import norm\n",
    "x   = np.linspace(-10,10,10000)\n",
    "dx  = x[1]-x[0]\n",
    "p   = norm().pdf(x)\n",
    "cdf = norm().cdf(x)\n",
    "cdf_figaro = fast_cumulative(p*dx)\n",
    "\n",
    "fig, (ax,res) = plt.subplots(2, 1, gridspec_kw={'height_ratios': [3, 1]}, sharex = True, figsize = (10,5))\n",
    "\n",
    "ax.plot(x, cdf, ls = '--', lw = 0.8, label = \"$\\mathrm{scipy}$\")\n",
    "ax.plot(x, cdf_figaro, ls = '-.', lw = 0.8, label = \"$\\mathrm{{FIGARO}}$\")\n",
    "ax.set_ylabel('$cdf(x)$')\n",
    "ax.grid(True,dashes=(1,3))\n",
    "ax.legend(loc = 0, frameon= False)\n",
    "res.plot(x, cdf_figaro-cdf, ls = '--', color = 'k', lw = 0.3)\n",
    "res.set_ylabel('$cdf_{F} - cdf$')\n",
    "res.set_xlabel('$x$')\n",
    "res.grid(True,dashes=(1,3))"
   ]
  },
  {
   "cell_type": "markdown",
   "id": "5a735fb2",
   "metadata": {},
   "source": [
    "In this case as well we have some discrepancy, due to the numerical integration error.\\\n",
    "First-order correction:"
   ]
  },
  {
   "cell_type": "code",
   "execution_count": null,
   "id": "b0c47276",
   "metadata": {},
   "outputs": [],
   "source": [
    "cdf_correction = fast_cumulative(-p*x/2.)\n",
    "\n",
    "plt.plot(x, cdf_figaro-cdf-cdf_correction*dx**2, ls = '--', color = 'k', lw = 0.3)\n",
    "plt.ylabel('$cdf_{F} - cdf$')\n",
    "plt.xlabel('$x$')\n",
    "plt.grid(True,dashes=(1,3))"
   ]
  },
  {
   "cell_type": "markdown",
   "id": "c3e84c5a",
   "metadata": {},
   "source": [
    "## `fast_log_cumulative`"
   ]
  },
  {
   "cell_type": "markdown",
   "id": "a0dd7383",
   "metadata": {},
   "source": [
    "Same as above but takes as input the logarithm of a function and returns the logarithm of the cumulative.\\\n",
    "$f(x) = 2x$:"
   ]
  },
  {
   "cell_type": "code",
   "execution_count": null,
   "id": "d9785df6",
   "metadata": {},
   "outputs": [],
   "source": [
    "from figaro.cumulative import fast_log_cumulative\n",
    "\n",
    "def logcdf_2x(x):\n",
    "    return 2*np.log(x)\n",
    "\n",
    "def logpdf(x):\n",
    "    return np.log(2)+np.log(x)\n",
    "\n",
    "x   = np.linspace(0,1,10000)[1:]\n",
    "dx  = x[1]-x[0]\n",
    "p   = logpdf(x)\n",
    "cdf = logcdf_2x(x)\n",
    "cdf_figaro = fast_log_cumulative(p+np.log(dx))\n",
    "\n",
    "fig, (ax,res) = plt.subplots(2, 1, gridspec_kw={'height_ratios': [3, 1]}, sharex = True, figsize = (10,5))\n",
    "\n",
    "ax.plot(x, cdf, ls = '--', lw = 0.8, label = \"$x^2$\")\n",
    "ax.plot(x, cdf_figaro, ls = '-.', lw = 0.8, label = \"$\\mathrm{FIGARO}$\")\n",
    "ax.set_ylabel('$\\log(cdf(x))$')\n",
    "ax.grid(True,dashes=(1,3))\n",
    "ax.legend(loc = 0, frameon= False)\n",
    "res.plot(x, np.exp(cdf_figaro) - np.exp(cdf), ls = '--', color = 'k', lw = 0.3)\n",
    "res.set_ylabel('$cdf_{F} - cdf$')\n",
    "res.set_xlabel('$x$')\n",
    "res.grid(True,dashes=(1,3))\n",
    "\n",
    "np.alltrue(cdf==cdf_figaro)"
   ]
  },
  {
   "cell_type": "markdown",
   "id": "18c6088e",
   "metadata": {},
   "source": [
    "Correcting for the integration error:"
   ]
  },
  {
   "cell_type": "code",
   "execution_count": null,
   "id": "7a62a80d",
   "metadata": {},
   "outputs": [],
   "source": [
    "error = dx**2*np.arange(1,len(cdf)+1)\n",
    "\n",
    "plt.plot(x, np.exp(cdf_figaro)-np.exp(cdf)-error, ls = '--', color = 'k', lw = 0.3)\n",
    "plt.ylabel('$cdf_{F} - cdf$')\n",
    "plt.xlabel('$x$')\n",
    "plt.grid(True,dashes=(1,3))"
   ]
  },
  {
   "cell_type": "markdown",
   "id": "7b9658e3",
   "metadata": {},
   "source": [
    "Gaussian distribution:"
   ]
  },
  {
   "cell_type": "code",
   "execution_count": null,
   "id": "8a3fce08",
   "metadata": {},
   "outputs": [],
   "source": [
    "from figaro.cumulative import fast_log_cumulative\n",
    "\n",
    "x   = np.linspace(-10,10,10000)\n",
    "dx  = x[1]-x[0]\n",
    "p   = norm().logpdf(x)\n",
    "cdf = norm().logcdf(x)\n",
    "\n",
    "cdf_figaro = fast_log_cumulative(p+np.log(dx))\n",
    "\n",
    "fig, (ax,res) = plt.subplots(2, 1, gridspec_kw={'height_ratios': [3, 1]}, sharex = True, figsize = (10,5))\n",
    "\n",
    "ax.plot(x, cdf, ls = '--', lw = 0.8, label = \"$\\mathrm{scipy}$\")\n",
    "ax.plot(x, cdf_figaro, ls = '-.', lw = 0.8, label = \"$\\mathrm{FIGARO}$\")\n",
    "ax.set_ylabel('$\\log(cdf(x))$')\n",
    "ax.grid(True,dashes=(1,3))\n",
    "ax.legend(loc = 0, frameon = False)\n",
    "res.plot(x, np.exp(cdf_figaro) - np.exp(cdf), ls = '--', color = 'k', lw = 0.3)\n",
    "res.set_ylabel('$cdf_{F} - cdf$')\n",
    "res.set_xlabel('$x$')\n",
    "res.grid(True,dashes=(1,3))"
   ]
  }
 ],
 "metadata": {
  "kernelspec": {
   "display_name": "Python 3 (ipykernel)",
   "language": "python",
   "name": "python3"
  },
  "language_info": {
   "codemirror_mode": {
    "name": "ipython",
    "version": 3
   },
   "file_extension": ".py",
   "mimetype": "text/x-python",
   "name": "python",
   "nbconvert_exporter": "python",
   "pygments_lexer": "ipython3",
   "version": "3.7.8"
  }
 },
 "nbformat": 4,
 "nbformat_minor": 5
}
