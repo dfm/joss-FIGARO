{
 "cells": [
  {
   "cell_type": "markdown",
   "id": "1709d6b3",
   "metadata": {},
   "source": [
    "# `threeDvolume.py`"
   ]
  },
  {
   "cell_type": "markdown",
   "id": "9b7a4241",
   "metadata": {},
   "source": [
    "This notebook tests the `threeDvolume` module.\n",
    "\n",
    "This module contains the class `VolumeReconstruction`, which is devoted to reconstruct volume distributions and sky maps from GW observations, and some utility methods."
   ]
  },
  {
   "cell_type": "markdown",
   "id": "e6b90eab",
   "metadata": {},
   "source": [
    "## Methods"
   ]
  },
  {
   "cell_type": "markdown",
   "id": "01fd2f48",
   "metadata": {},
   "source": [
    "### `log_add`"
   ]
  },
  {
   "cell_type": "markdown",
   "id": "d3f76a84",
   "metadata": {},
   "source": [
    "This method computes in a numerically stable way $\\log(e^x+e^y)$."
   ]
  },
  {
   "cell_type": "code",
   "execution_count": null,
   "id": "83aee2a4",
   "metadata": {},
   "outputs": [],
   "source": [
    "from figaro.threeDvolume import log_add\n",
    "import numpy as np\n",
    "\n",
    "print('log_add: {0}, expected: {1}'.format(log_add(0, -np.inf), np.log(1)))\n",
    "print('log_add: {0}, expected: {1}'.format(log_add(-np.inf, 0), np.log(1)))\n",
    "print('log_add: {0}, expected: {1}'.format(log_add(0, 0), np.log(2)))\n",
    "print('log_add: {0}, expected: {1}'.format(log_add(0, 1), np.log(np.e+1)))\n",
    "print('log_add: {0}, expected: {1}'.format(log_add(1, 0), np.log(np.e+1)))"
   ]
  },
  {
   "cell_type": "markdown",
   "id": "5690ca1e",
   "metadata": {},
   "source": [
    "### `log_add_array`"
   ]
  },
  {
   "cell_type": "markdown",
   "id": "36f72318",
   "metadata": {},
   "source": [
    "Compute $\\log(e^x + e^y)$ element-wise."
   ]
  },
  {
   "cell_type": "code",
   "execution_count": null,
   "id": "a6d0bd7c",
   "metadata": {},
   "outputs": [],
   "source": [
    "from figaro.threeDvolume import log_add_array\n",
    "print('log_add_array: {0}, expected: {1}'.format(log_add_array(np.zeros(3), np.ones(3)), np.log(np.e+1)))"
   ]
  },
  {
   "cell_type": "markdown",
   "id": "b657911d",
   "metadata": {},
   "source": [
    "The output array has the same length as the first argument `x`. If `len(x)<len(y)`, only the first entries of `y` are used. Otherwise, if `len(x)>len(y)`, the behaviour of the code is undefined."
   ]
  },
  {
   "cell_type": "code",
   "execution_count": null,
   "id": "04812f81",
   "metadata": {},
   "outputs": [],
   "source": [
    "print('log_add_array: {0}, expected: {1}'.format(log_add_array(np.zeros(4), np.ones(3)), np.log(np.e+1)))\n",
    "print('log_add_array: {0}, expected: {1}'.format(log_add_array(np.zeros(3), np.ones(4)), np.log(np.e+1)))"
   ]
  },
  {
   "cell_type": "markdown",
   "id": "604361ea",
   "metadata": {},
   "source": [
    "### `atoi`"
   ]
  },
  {
   "cell_type": "markdown",
   "id": "f981b8b9",
   "metadata": {},
   "source": [
    "Converts string to integer if string is a integer, else leaves the string unchanged."
   ]
  },
  {
   "cell_type": "code",
   "execution_count": null,
   "id": "6ac2b7d1",
   "metadata": {},
   "outputs": [],
   "source": [
    "from figaro.threeDvolume import atoi\n",
    "\n",
    "atoi('a'), atoi('5'), atoi('4.4'), atoi('53'), atoi('53.')"
   ]
  },
  {
   "cell_type": "markdown",
   "id": "59e9717f",
   "metadata": {},
   "source": [
    "### `natural_keys`"
   ]
  },
  {
   "cell_type": "markdown",
   "id": "b627ea16",
   "metadata": {},
   "source": [
    "Returns a list with the input string splitted in strings and integers. This is to be used with the `list.sort` method."
   ]
  },
  {
   "cell_type": "code",
   "execution_count": null,
   "id": "c4d2a3c6",
   "metadata": {},
   "outputs": [],
   "source": [
    "from figaro.threeDvolume import natural_keys\n",
    "\n",
    "natural_keys('GW150914.pdf')"
   ]
  },
  {
   "cell_type": "code",
   "execution_count": null,
   "id": "04aad1d2",
   "metadata": {},
   "outputs": [],
   "source": [
    "l = ['GW150914.pdf', 'galaxy_catalog', '5', 'ABC', '0']\n",
    "l.sort(key = natural_keys)\n",
    "print(l)"
   ]
  }
 ],
 "metadata": {
  "kernelspec": {
   "display_name": "Python 3 (ipykernel)",
   "language": "python",
   "name": "python3"
  },
  "language_info": {
   "codemirror_mode": {
    "name": "ipython",
    "version": 3
   },
   "file_extension": ".py",
   "mimetype": "text/x-python",
   "name": "python",
   "nbconvert_exporter": "python",
   "pygments_lexer": "ipython3",
   "version": "3.7.8"
  }
 },
 "nbformat": 4,
 "nbformat_minor": 5
}
