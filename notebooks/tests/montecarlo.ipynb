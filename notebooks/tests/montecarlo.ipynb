{
 "cells": [
  {
   "cell_type": "markdown",
   "id": "b0423dfb",
   "metadata": {},
   "source": [
    "# `montecarlo.py`"
   ]
  },
  {
   "cell_type": "markdown",
   "id": "294c6be2",
   "metadata": {},
   "source": [
    "This notebook tests the `montecarlo.py` module."
   ]
  },
  {
   "cell_type": "markdown",
   "id": "903c3a5a",
   "metadata": {},
   "source": [
    "This module contains several methods designed to evaluate the probability of an event to be assigned to a component of the mixture and to evaluate the expected value of mean and covariance matrix of each of these components, both conditioned on the events already assigned to the component."
   ]
  },
  {
   "cell_type": "markdown",
   "id": "996f7442",
   "metadata": {},
   "source": [
    "## Utilities"
   ]
  },
  {
   "cell_type": "markdown",
   "id": "ae1e3fd3",
   "metadata": {},
   "source": [
    "First of all, we will test some utility methods used by the main methods."
   ]
  },
  {
   "cell_type": "markdown",
   "id": "e89167e9",
   "metadata": {},
   "source": [
    "### `_log_add`"
   ]
  },
  {
   "cell_type": "markdown",
   "id": "39289fd8",
   "metadata": {},
   "source": [
    "Numerically stable method to compute $\\log\\big(e^x + e^y\\big)$. Works with doubles only."
   ]
  },
  {
   "cell_type": "code",
   "execution_count": null,
   "id": "dbea040f",
   "metadata": {},
   "outputs": [],
   "source": [
    "import numpy as np\n",
    "from figaro.montecarlo import _log_add\n",
    "\n",
    "x = np.array([0, 1, -np.inf, 1, 0])\n",
    "y = np.array([1, 0, 1, -np.inf, 0])\n",
    "\n",
    "for xi, yi in zip(x,y):\n",
    "    print(\"log_sum = {0}, expected = {1}\".format(_log_add(xi, yi), np.log(np.exp(xi) + np.exp(yi))))"
   ]
  },
  {
   "cell_type": "markdown",
   "id": "a8c7d94f",
   "metadata": {},
   "source": [
    "### `_log_add_array`"
   ]
  },
  {
   "cell_type": "markdown",
   "id": "bbe19d12",
   "metadata": {},
   "source": [
    "Vectorised version of `log_add`. Works with arrays only, shape must match."
   ]
  },
  {
   "cell_type": "code",
   "execution_count": null,
   "id": "f8ee81f3",
   "metadata": {},
   "outputs": [],
   "source": [
    "from figaro.montecarlo import _log_add_array\n",
    "\n",
    "z = _log_add_array(x,y)\n",
    "\n",
    "for zi, zi_exp in zip(z, np.log(np.exp(x) + np.exp(y))):\n",
    "    print(\"log_sum = {0}, expected = {1}\".format(zi, zi_exp))"
   ]
  },
  {
   "cell_type": "markdown",
   "id": "7c28b7fc",
   "metadata": {},
   "source": [
    "If this is not the case, if `len(x) > len(y)`, returns an array with the same lenght as `x`. Otherwise, the behaviour is undefined (no checks implemented)."
   ]
  },
  {
   "cell_type": "code",
   "execution_count": null,
   "id": "41a41421",
   "metadata": {},
   "outputs": [],
   "source": [
    "print('len(x)<len(y): {0}'.format(_log_add_array(x[:3], y)))\n",
    "print('len(x)>len(y): {0}'.format(_log_add_array(x, np.zeros(1))))"
   ]
  },
  {
   "cell_type": "markdown",
   "id": "b63e45c8",
   "metadata": {},
   "source": [
    "### `log_norm_1d`"
   ]
  },
  {
   "cell_type": "markdown",
   "id": "43acd0a5",
   "metadata": {},
   "source": [
    "Log PDF of 1-dimensional Gaussian distribution, to be compared with Scipy's `norm().logpdf`. Works with doubles."
   ]
  },
  {
   "cell_type": "code",
   "execution_count": null,
   "id": "587f3956",
   "metadata": {},
   "outputs": [],
   "source": [
    "from figaro.montecarlo import log_norm_1d\n",
    "from scipy.stats import norm\n",
    "\n",
    "mu  = 2\n",
    "var = 0.1\n",
    "x   = np.linspace(-5,5,1000)\n",
    "\n",
    "logpdf_scipy = norm(mu, np.sqrt(var)).logpdf(x)\n",
    "logpdf_figaro = np.array([log_norm_1d(xi, mu, var) for xi in x])\n",
    "\n",
    "print(np.alltrue(logpdf_scipy == logpdf_figaro))"
   ]
  },
  {
   "cell_type": "markdown",
   "id": "494161d5",
   "metadata": {},
   "source": [
    "The element-wise comparison seems to fail: let's have a look at the differences."
   ]
  },
  {
   "cell_type": "code",
   "execution_count": null,
   "id": "34eb66c0",
   "metadata": {},
   "outputs": [],
   "source": [
    "import matplotlib.pyplot as plt\n",
    "fig, ax = plt.subplots()\n",
    "a = ax.plot(x, logpdf_figaro - logpdf_scipy)\n",
    "\n",
    "print(np.allclose(logpdf_scipy, logpdf_figaro, atol = 1e-13, rtol = 0))"
   ]
  },
  {
   "cell_type": "markdown",
   "id": "3f8bdabf",
   "metadata": {},
   "source": [
    "### `inv_jit`\n"
   ]
  },
  {
   "cell_type": "markdown",
   "id": "cfa86f3e",
   "metadata": {},
   "source": [
    "Numba-decorated `numpy.linalg.inv` method. Faster than pure Numpy on a single matrix."
   ]
  },
  {
   "cell_type": "code",
   "execution_count": null,
   "id": "085366d6",
   "metadata": {
    "scrolled": false
   },
   "outputs": [],
   "source": [
    "from figaro.montecarlo import inv_jit\n",
    "from scipy.stats import invwishart\n",
    "\n",
    "M = invwishart(3, np.identity(3)).rvs()\n",
    "\n",
    "print('Numpy:')\n",
    "%timeit np.linalg.inv(M)\n",
    "print('Numba:')\n",
    "%timeit inv_jit(M)\n",
    "\n",
    "print(np.allclose(np.linalg.inv(M), inv_jit(M), atol = 1e-13))"
   ]
  },
  {
   "cell_type": "markdown",
   "id": "07e185c1",
   "metadata": {},
   "source": [
    "### `logdet_jit`"
   ]
  },
  {
   "cell_type": "markdown",
   "id": "3cf20f92",
   "metadata": {},
   "source": [
    "Numba-decorated logarithm of `numpy.linalg.det` method. Faster than pure Numpy on a single matrix."
   ]
  },
  {
   "cell_type": "code",
   "execution_count": null,
   "id": "3c4da0c3",
   "metadata": {},
   "outputs": [],
   "source": [
    "from figaro.montecarlo import logdet_jit\n",
    "\n",
    "M = invwishart(3, np.identity(3)).rvs()\n",
    "\n",
    "print('Numpy:')\n",
    "%timeit np.log(np.linalg.det(M))\n",
    "print('Numba:')\n",
    "%timeit logdet_jit(M)\n",
    "\n",
    "print(np.allclose(np.log(np.linalg.det(M)), logdet_jit(M), atol = 1e-13))"
   ]
  },
  {
   "cell_type": "markdown",
   "id": "f2d2f8aa",
   "metadata": {},
   "source": [
    "### `scalar_product`"
   ]
  },
  {
   "cell_type": "markdown",
   "id": "0fe7994b",
   "metadata": {},
   "source": [
    "Given a matrix $M$ and a vector $v$, computes $\\langle v, Mv\\rangle$. Compared with `np.dot(v, np.dot(M, v))`."
   ]
  },
  {
   "cell_type": "code",
   "execution_count": null,
   "id": "e532043b",
   "metadata": {},
   "outputs": [],
   "source": [
    "from figaro.montecarlo import scalar_product\n",
    "\n",
    "M = invwishart(3, np.identity(3)).rvs()\n",
    "v = np.random.uniform(size = 3)\n",
    "\n",
    "print('Numpy:')\n",
    "%timeit np.dot(v, np.dot(M, v))\n",
    "print('Numba:')\n",
    "%timeit scalar_product(v, M, len(v))\n",
    "\n",
    "print(np.alltrue(scalar_product(v, M, len(v)) == np.dot(v, np.dot(M, v))))"
   ]
  },
  {
   "cell_type": "markdown",
   "id": "f2cc3b1a",
   "metadata": {},
   "source": [
    "### `log_norm`"
   ]
  },
  {
   "cell_type": "markdown",
   "id": "c8f03101",
   "metadata": {},
   "source": [
    "Log PDF of N-dimensional Gaussian distribution, to be compared with Scipy's `multivariate_normal().logpdf`. Works with doubles."
   ]
  },
  {
   "cell_type": "code",
   "execution_count": null,
   "id": "fd42cb4f",
   "metadata": {},
   "outputs": [],
   "source": [
    "from figaro.montecarlo import log_norm\n",
    "from scipy.stats import multivariate_normal\n",
    "\n",
    "mu  = np.ones(2)\n",
    "var = np.identity(2)*0.1**2\n",
    "x   = np.linspace(0,2,100)\n",
    "y   = np.linspace(0,2,100)\n",
    "\n",
    "z = []\n",
    "for xi in x:\n",
    "    for yi in y:\n",
    "        z.append(np.array([xi,yi]))\n",
    "z = np.array(z)\n",
    "\n",
    "logpdf_scipy  = multivariate_normal(mu, var).logpdf(z)\n",
    "logpdf_figaro = np.array([log_norm(zi, mu, var) for zi in z])\n",
    "\n",
    "print(np.alltrue(logpdf_scipy == logpdf_figaro))"
   ]
  },
  {
   "cell_type": "markdown",
   "id": "38f730cf",
   "metadata": {},
   "source": [
    "The element-wise comparison seems to fail: let's have a look at the differences."
   ]
  },
  {
   "cell_type": "code",
   "execution_count": null,
   "id": "21a3144f",
   "metadata": {},
   "outputs": [],
   "source": [
    "fig, ax = plt.subplots()\n",
    "a = ax.plot(logpdf_figaro - logpdf_scipy)\n",
    "\n",
    "print(np.allclose(logpdf_scipy, logpdf_figaro, atol = 1e-13, rtol = 0))"
   ]
  }
 ],
 "metadata": {
  "kernelspec": {
   "display_name": "Python 3 (ipykernel)",
   "language": "python",
   "name": "python3"
  },
  "language_info": {
   "codemirror_mode": {
    "name": "ipython",
    "version": 3
   },
   "file_extension": ".py",
   "mimetype": "text/x-python",
   "name": "python",
   "nbconvert_exporter": "python",
   "pygments_lexer": "ipython3",
   "version": "3.7.8"
  }
 },
 "nbformat": 4,
 "nbformat_minor": 5
}
