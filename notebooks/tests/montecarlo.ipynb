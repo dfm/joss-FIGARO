{
 "cells": [
  {
   "cell_type": "markdown",
   "id": "f84f2db5",
   "metadata": {},
   "source": [
    "# `montecarlo.py`"
   ]
  },
  {
   "cell_type": "markdown",
   "id": "f1f27b79",
   "metadata": {},
   "source": [
    "This notebook tests the `montecarlo` module.\n",
    "\n",
    "This module contains methods to perform Monte Carlo integrals using FIGARO reconstructions."
   ]
  },
  {
   "cell_type": "markdown",
   "id": "0f89bba9",
   "metadata": {},
   "source": [
    "## `MC_integral`"
   ]
  },
  {
   "cell_type": "markdown",
   "id": "6215005f",
   "metadata": {},
   "source": [
    "This method computes an integral of the form\\\n",
    "$\n",
    "I = \\int p(x)q(x)dx\\,,\n",
    "$\\\n",
    "where $p(x)$ and $q(x)$ are probability densities via the Monte Carlo approximation:\\\n",
    "$\n",
    "I \\simeq \\frac{\\sum_{i}p(x_i)}{N},\\ x_i\\sim q(x)\\,.\n",
    "$\\\n",
    "`p` and `q` can be either single FIGARO draws or lists of draws."
   ]
  },
  {
   "cell_type": "markdown",
   "id": "45d6924d",
   "metadata": {},
   "source": [
    "Let's compute the integral of two 1D Gaussian distributions. First of all, we need the FIGARO reconstructions:"
   ]
  },
  {
   "cell_type": "code",
   "execution_count": null,
   "id": "b2570bb7",
   "metadata": {},
   "outputs": [],
   "source": [
    "from figaro.mixture import DPGMM\n",
    "from scipy.stats import norm\n",
    "import numpy as np\n",
    "from tqdm import tqdm\n",
    "\n",
    "xmin = -5\n",
    "xmax = 5\n",
    "\n",
    "n_samps = 1000\n",
    "n_draws = 100\n",
    "\n",
    "mu1 = 1\n",
    "mu2 = 0\n",
    "s1  = 0.5\n",
    "s2  = 1\n",
    "\n",
    "f1  = norm(mu1,s1)\n",
    "f2  = norm(mu2,s2)\n",
    "\n",
    "x   = np.linspace(xmin, xmax, 1000)\n",
    "dx  = x[1]-x[0]\n",
    "mix = DPGMM([[xmin, xmax]])\n",
    "\n",
    "samples_1 = f1.rvs(n_samps)\n",
    "samples_2 = f2.rvs(n_samps)\n",
    "\n",
    "draws_1 = np.array([mix.density_from_samples(samples_1) for _ in tqdm(range(n_draws), desc = 'Mixture 1')])\n",
    "draws_2 = np.array([mix.density_from_samples(samples_2) for _ in tqdm(range(n_draws), desc = 'Mixture 2')])\n",
    "\n",
    "I_num = np.sum(f1.pdf(x)*f2.pdf(x)*dx)"
   ]
  },
  {
   "cell_type": "markdown",
   "id": "8aacc0a7",
   "metadata": {},
   "source": [
    "The integral can be done using the `MC_integral` method:"
   ]
  },
  {
   "cell_type": "code",
   "execution_count": null,
   "id": "5475edc1",
   "metadata": {},
   "outputs": [],
   "source": [
    "from figaro.montecarlo import MC_integral\n",
    "\n",
    "I, dI = MC_integral(draws_1, draws_2)\n",
    "\n",
    "print('FIGARO: {0:.4f}+-{1:.4f}, numerical: {2:.4f}'.format(I, dI, I_num))"
   ]
  },
  {
   "cell_type": "markdown",
   "id": "52f9f54e",
   "metadata": {},
   "source": [
    "If one is not interested in the error estimate, just set the `error` argument to `False`:"
   ]
  },
  {
   "cell_type": "code",
   "execution_count": null,
   "id": "19de36e5",
   "metadata": {},
   "outputs": [],
   "source": [
    "I = MC_integral(draws_1, draws_2, error = False)\n",
    "\n",
    "print('FIGARO: {0:.4f}, numerical: {1:.4f}'.format(I, I_num))"
   ]
  },
  {
   "cell_type": "markdown",
   "id": "4bea45ca",
   "metadata": {},
   "source": [
    "This method works with every class with `pdf` and `rvs`, like `scipy.stats.norm`: "
   ]
  },
  {
   "cell_type": "code",
   "execution_count": null,
   "id": "e1b775b2",
   "metadata": {},
   "outputs": [],
   "source": [
    "from figaro.montecarlo import MC_integral\n",
    "\n",
    "I, dI = MC_integral(f1, f2)\n",
    "\n",
    "print('FIGARO: {0:.4f}+-{1:.4f}, numerical: {2:.4f}'.format(I, dI, I_num))"
   ]
  }
 ],
 "metadata": {
  "kernelspec": {
   "display_name": "Python 3 (ipykernel)",
   "language": "python",
   "name": "python3"
  },
  "language_info": {
   "codemirror_mode": {
    "name": "ipython",
    "version": 3
   },
   "file_extension": ".py",
   "mimetype": "text/x-python",
   "name": "python",
   "nbconvert_exporter": "python",
   "pygments_lexer": "ipython3",
   "version": "3.7.8"
  }
 },
 "nbformat": 4,
 "nbformat_minor": 5
}
