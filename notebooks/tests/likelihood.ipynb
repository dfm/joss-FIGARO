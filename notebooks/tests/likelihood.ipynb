{
 "cells": [
  {
   "cell_type": "markdown",
   "id": "b0423dfb",
   "metadata": {},
   "source": [
    "# `likelihood.py`"
   ]
  },
  {
   "cell_type": "markdown",
   "id": "294c6be2",
   "metadata": {},
   "source": [
    "This notebook tests the `likelihood.py` module."
   ]
  },
  {
   "cell_type": "markdown",
   "id": "903c3a5a",
   "metadata": {},
   "source": [
    "This module contains several methods designed to evaluate the probability of an event to be assigned to a component of the mixture and to evaluate the expected value of mean and covariance matrix of each of these components, both conditioned on the events already assigned to the component."
   ]
  },
  {
   "cell_type": "markdown",
   "id": "996f7442",
   "metadata": {},
   "source": [
    "## Utilities"
   ]
  },
  {
   "cell_type": "markdown",
   "id": "ae1e3fd3",
   "metadata": {},
   "source": [
    "First of all, we will test some utility methods used by the main methods."
   ]
  },
  {
   "cell_type": "markdown",
   "id": "3f8bdabf",
   "metadata": {},
   "source": [
    "### `inv_jit`\n"
   ]
  },
  {
   "cell_type": "markdown",
   "id": "cfa86f3e",
   "metadata": {},
   "source": [
    "Numba-decorated `numpy.linalg.inv` method. Faster than pure Numpy on a single matrix."
   ]
  },
  {
   "cell_type": "code",
   "execution_count": 3,
   "id": "5dd0452b",
   "metadata": {},
   "outputs": [
    {
     "name": "stdout",
     "output_type": "stream",
     "text": [
      "Numpy:\n",
      "39.2 µs ± 10 µs per loop (mean ± std. dev. of 7 runs, 10,000 loops each)\n",
      "Numba:\n",
      "3.09 µs ± 323 ns per loop (mean ± std. dev. of 7 runs, 100,000 loops each)\n",
      "True\n"
     ]
    }
   ],
   "source": [
    "import numpy as np\n",
    "\n",
    "from figaro.likelihood import inv_jit\n",
    "from scipy.stats import invwishart\n",
    "\n",
    "M = invwishart(3, np.identity(3)).rvs()\n",
    "\n",
    "print('Numpy:')\n",
    "%timeit np.linalg.inv(M)\n",
    "print('Numba:')\n",
    "%timeit inv_jit(M)\n",
    "\n",
    "print(np.allclose(np.linalg.inv(M), inv_jit(M), atol = 1e-16))"
   ]
  },
  {
   "cell_type": "markdown",
   "id": "07e185c1",
   "metadata": {},
   "source": [
    "### `logdet_jit`"
   ]
  },
  {
   "cell_type": "markdown",
   "id": "3cf20f92",
   "metadata": {},
   "source": [
    "Numba-decorated logarithm of `numpy.linalg.det` method. Faster than pure Numpy on a single matrix."
   ]
  },
  {
   "cell_type": "code",
   "execution_count": 7,
   "id": "3c4da0c3",
   "metadata": {},
   "outputs": [
    {
     "name": "stdout",
     "output_type": "stream",
     "text": [
      "Numpy:\n",
      "12.3 µs ± 3.09 µs per loop (mean ± std. dev. of 7 runs, 10,000 loops each)\n",
      "Numba:\n",
      "The slowest run took 21.13 times longer than the fastest. This could mean that an intermediate result is being cached.\n",
      "5.34 µs ± 9.01 µs per loop (mean ± std. dev. of 7 runs, 1 loop each)\n",
      "True\n"
     ]
    }
   ],
   "source": [
    "from figaro.likelihood import logdet_jit\n",
    "\n",
    "M = invwishart(3, np.identity(3)).rvs()\n",
    "print('Numpy:')\n",
    "%timeit np.log(np.linalg.det(M))\n",
    "print('Numba:')\n",
    "%timeit logdet_jit(M)\n",
    "\n",
    "print(np.allclose(np.log(np.linalg.det(M)), logdet_jit(M), atol = 1e-13))"
   ]
  },
  {
   "cell_type": "markdown",
   "id": "72dd7f06",
   "metadata": {},
   "source": [
    "### `logsumexp_jit`"
   ]
  },
  {
   "cell_type": "markdown",
   "id": "02eafd5d",
   "metadata": {},
   "source": [
    "Numba-decorated and check-free version of `scipy.special.logsumexp`. See https://github.com/scipy/scipy/blob/v1.8.0/scipy/special/_logsumexp.py#L7-L127"
   ]
  },
  {
   "cell_type": "code",
   "execution_count": 8,
   "id": "5e574f64",
   "metadata": {},
   "outputs": [
    {
     "name": "stdout",
     "output_type": "stream",
     "text": [
      "Numpy:\n",
      "121 µs ± 25.4 µs per loop (mean ± std. dev. of 7 runs, 1,000 loops each)\n",
      "Numba:\n",
      "The slowest run took 14.55 times longer than the fastest. This could mean that an intermediate result is being cached.\n",
      "31.1 µs ± 49.4 µs per loop (mean ± std. dev. of 7 runs, 1 loop each)\n",
      "Numpy: 5.499549791707572, Numba: 5.499549791707572\n"
     ]
    }
   ],
   "source": [
    "from figaro.likelihood import logsumexp_jit\n",
    "from scipy.special import logsumexp\n",
    "\n",
    "n_pts = 1000\n",
    "\n",
    "p = np.log(np.random.uniform(0,1, size = n_pts))\n",
    "b = np.linspace(0,1,n_pts)\n",
    "\n",
    "print('Numpy:')\n",
    "%timeit logsumexp(p, b=b)\n",
    "print('Numba:')\n",
    "%timeit logsumexp_jit(p, b=b)\n",
    "\n",
    "print('Numpy: {0}, Numba: {0}'.format(logsumexp(p, b=b), logsumexp_jit(p, b=b)))"
   ]
  },
  {
   "cell_type": "markdown",
   "id": "f2d2f8aa",
   "metadata": {},
   "source": [
    "### `scalar_product`"
   ]
  },
  {
   "cell_type": "markdown",
   "id": "0fe7994b",
   "metadata": {},
   "source": [
    "Given a matrix $M$ and a vector $v$, computes $\\langle v, Mv\\rangle$. Compared with `np.dot(v, np.dot(M, v))`."
   ]
  },
  {
   "cell_type": "code",
   "execution_count": 10,
   "id": "e532043b",
   "metadata": {},
   "outputs": [
    {
     "name": "stdout",
     "output_type": "stream",
     "text": [
      "Numpy:\n",
      "3.54 µs ± 372 ns per loop (mean ± std. dev. of 7 runs, 100,000 loops each)\n",
      "Numba:\n",
      "714 ns ± 38.1 ns per loop (mean ± std. dev. of 7 runs, 1,000,000 loops each)\n",
      "True\n"
     ]
    }
   ],
   "source": [
    "from figaro.likelihood import scalar_product\n",
    "\n",
    "M = invwishart(3, np.identity(3)).rvs()\n",
    "v = np.random.uniform(size = 3)\n",
    "\n",
    "print('Numpy:')\n",
    "%timeit np.dot(v, np.dot(M, v))\n",
    "print('Numba:')\n",
    "%timeit scalar_product(v, M, len(v))\n",
    "\n",
    "print(np.alltrue(scalar_product(v, M, len(v)) == np.dot(v, np.dot(M, v))))"
   ]
  },
  {
   "cell_type": "markdown",
   "id": "b63e45c8",
   "metadata": {},
   "source": [
    "### `log_norm_1d`"
   ]
  },
  {
   "cell_type": "markdown",
   "id": "43acd0a5",
   "metadata": {},
   "source": [
    "Log PDF of 1-dimensional Gaussian distribution, to be compared with Scipy's `norm().logpdf`. Works with doubles."
   ]
  },
  {
   "cell_type": "code",
   "execution_count": 12,
   "id": "976bb04a-78c1-4534-ad7d-7705303b627e",
   "metadata": {},
   "outputs": [
    {
     "name": "stdout",
     "output_type": "stream",
     "text": [
      "False\n"
     ]
    }
   ],
   "source": [
    "from figaro.likelihood import log_norm_1d\n",
    "from scipy.stats import norm\n",
    "\n",
    "mu  = 2\n",
    "var = 0.1\n",
    "x   = np.linspace(-5,5,1000)\n",
    "\n",
    "logpdf_scipy = norm(mu, np.sqrt(var)).logpdf(x)\n",
    "logpdf_figaro = np.array([log_norm_1d(xi, mu, var) for xi in x])\n",
    "\n",
    "print(np.alltrue(logpdf_scipy == logpdf_figaro))"
   ]
  },
  {
   "cell_type": "markdown",
   "id": "494161d5",
   "metadata": {},
   "source": [
    "The element-wise comparison seems to fail: let's have a look at the differences."
   ]
  },
  {
   "cell_type": "code",
   "execution_count": 29,
   "id": "34eb66c0",
   "metadata": {},
   "outputs": [
    {
     "name": "stdout",
     "output_type": "stream",
     "text": [
      "True\n"
     ]
    },
    {
     "data": {
      "image/png": "[encoded data removed]",
      "text/plain": [
       "<Figure size 432x288 with 1 Axes>"
      ]
     },
     "metadata": {
      "needs_background": "light"
     },
     "output_type": "display_data"
    }
   ],
   "source": [
    "import matplotlib.pyplot as plt\n",
    "fig, ax = plt.subplots()\n",
    "a = ax.plot(x, logpdf_figaro - logpdf_scipy)\n",
    "\n",
    "print(np.allclose(logpdf_scipy, logpdf_figaro, atol = 1e-13, rtol = 0))"
   ]
  },
  {
   "cell_type": "markdown",
   "id": "f2cc3b1a",
   "metadata": {},
   "source": [
    "### `log_norm`"
   ]
  },
  {
   "cell_type": "markdown",
   "id": "c8f03101",
   "metadata": {},
   "source": [
    "Log PDF of N-dimensional Gaussian distribution, to be compared with Scipy's `multivariate_normal().logpdf`. Works with doubles."
   ]
  },
  {
   "cell_type": "code",
   "execution_count": 45,
   "id": "fd42cb4f",
   "metadata": {},
   "outputs": [
    {
     "name": "stdout",
     "output_type": "stream",
     "text": [
      "False\n"
     ]
    }
   ],
   "source": [
    "from figaro.likelihood import log_norm\n",
    "from scipy.stats import multivariate_normal\n",
    "\n",
    "mu  = np.zeros(2)\n",
    "var = np.identity(2)*0.1**2\n",
    "x   = np.linspace(0,1,100)\n",
    "y   = np.linspace(0,1,100)\n",
    "\n",
    "\n",
    "z = []\n",
    "for xi in x:\n",
    "    for yi in y:\n",
    "        z.append(np.array([xi,yi]))\n",
    "z = np.array(z)\n",
    "\n",
    "logpdf_scipy  = multivariate_normal(mu, var).logpdf(z)\n",
    "logpdf_figaro = np.array([log_norm(zi, mu, var) for zi in z])\n",
    "\n",
    "print(np.alltrue(logpdf_scipy == logpdf_figaro))"
   ]
  },
  {
   "cell_type": "markdown",
   "id": "38f730cf",
   "metadata": {},
   "source": [
    "The element-wise comparison seems to fail: let's have a look at the differences."
   ]
  },
  {
   "cell_type": "code",
   "execution_count": 48,
   "id": "21a3144f",
   "metadata": {},
   "outputs": [
    {
     "name": "stdout",
     "output_type": "stream",
     "text": [
      "True\n"
     ]
    },
    {
     "data": {
      "image/png": "[encoded data removed]",
      "text/plain": [
       "<Figure size 432x288 with 1 Axes>"
      ]
     },
     "metadata": {
      "needs_background": "light"
     },
     "output_type": "display_data"
    }
   ],
   "source": [
    "fig, ax = plt.subplots()\n",
    "a = ax.plot((logpdf_figaro - logpdf_scipy))\n",
    "\n",
    "print(np.allclose(logpdf_scipy, logpdf_figaro, atol = 1e-13, rtol = 0))"
   ]
  },
  {
   "cell_type": "markdown",
   "id": "fa2ab4a1-69af-4663-a21f-f8639934869f",
   "metadata": {},
   "source": [
    "# Reviewer"
   ]
  },
  {
   "cell_type": "markdown",
   "id": "c8f25a61-1f11-4463-89db-2d2a6d075219",
   "metadata": {},
   "source": [
    "The code is reliable when the functions listed above are evaluated for values >> absolute error.\n",
    "Reviewed commit "
   ]
  }
 ],
 "metadata": {
  "kernelspec": {
   "display_name": "Python 3 (ipykernel)",
   "language": "python",
   "name": "python3"
  },
  "language_info": {
   "codemirror_mode": {
    "name": "ipython",
    "version": 3
   },
   "file_extension": ".py",
   "mimetype": "text/x-python",
   "name": "python",
   "nbconvert_exporter": "python",
   "pygments_lexer": "ipython3",
   "version": "3.9.12"
  }
 },
 "nbformat": 4,
 "nbformat_minor": 5
}
