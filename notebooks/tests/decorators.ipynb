{
 "cells": [
  {
   "cell_type": "markdown",
   "id": "cba66c9c",
   "metadata": {},
   "source": [
    "# `decorators.py`"
   ]
  },
  {
   "cell_type": "markdown",
   "id": "e85d66e6",
   "metadata": {},
   "source": [
    "This notebook tests the `decorators.py` module.\n",
    "\n",
    "This module contains a set of decorators meant to change a function domain/codomain (probit decorators) or changing the coordinates in which the input/output of a function is expressed (celestial/cartesian decorators).\n",
    "\n",
    "A note on all these decorators: they are meant to be used on class methods, therefore the first argument of the decorated function must be an instance of any class (in particular, for probit decorators, it must contain a `bounds` attribute) while the second is the point."
   ]
  },
  {
   "cell_type": "code",
   "execution_count": null,
   "id": "75bccb6e",
   "metadata": {},
   "outputs": [],
   "source": [
    "import numpy as np\n",
    "import matplotlib.pyplot as plt\n",
    "from corner import corner\n",
    "from figaro.decorators import *\n",
    "\n",
    "class foo:\n",
    "    def __init__(self, bounds):\n",
    "            self.bounds = np.array(bounds)\n",
    "            \n",
    "x_min  = 1\n",
    "x_max  = 3\n",
    "x      = np.linspace(x_min, x_max, 1002)[1:-1]\n",
    "y      = np.linspace(-5, 5, 1000)\n",
    "bounds = [[x_min, x_max]]\n",
    "ref    = foo(bounds)"
   ]
  },
  {
   "cell_type": "markdown",
   "id": "d12de17a",
   "metadata": {},
   "source": [
    "## Probit decorators"
   ]
  },
  {
   "cell_type": "markdown",
   "id": "bec9064d",
   "metadata": {},
   "source": [
    "The probit decorators changes the domain or codomain of a function from natural space $\\mathbb{N}$ to probit space $\\mathbb{P}$ and vice versa."
   ]
  },
  {
   "cell_type": "markdown",
   "id": "c75dc289",
   "metadata": {},
   "source": [
    "### `antiprobit`"
   ]
  },
  {
   "cell_type": "markdown",
   "id": "5ba9098d",
   "metadata": {},
   "source": [
    "This decorator takes as input a function $f:\\mathbb{P} \\to \\mathbb{R}^n$ and returns a function $g:\\mathbb{N} \\to \\mathbb{R}^n$. It does so by first transforming the point from natural space to probit space with `transform_from_probit` and then evaluating the decorated function in the transformed point.\n",
    "\n",
    "First check is to ensure that the decorated identity function works as coordinate changer:"
   ]
  },
  {
   "cell_type": "code",
   "execution_count": null,
   "id": "59b73fb4",
   "metadata": {},
   "outputs": [],
   "source": [
    "@antiprobit\n",
    "def identity(ref, x):\n",
    "    return x\n",
    "\n",
    "plt.plot(y, identity(ref, y))\n",
    "plt.xlabel('$x$')\n",
    "plt.ylabel('$f(x)$')\n",
    "plt.grid(True,dashes=(1,3))"
   ]
  },
  {
   "cell_type": "markdown",
   "id": "1055273d",
   "metadata": {},
   "source": [
    "A simple square law:"
   ]
  },
  {
   "cell_type": "code",
   "execution_count": null,
   "id": "f5a4ec35",
   "metadata": {},
   "outputs": [],
   "source": [
    "@antiprobit\n",
    "def square_decorated(ref, x):\n",
    "    return 2*x**2\n",
    "\n",
    "def square(ref, x):\n",
    "    return 2*x**2\n",
    "\n",
    "\n",
    "sq = square(ref, y)\n",
    "sq_decorated = square_decorated(ref, y)\n",
    "\n",
    "plt.plot(y, sq, lw = 0.7, label = '$\\mathrm{Not\\ decorated}$')\n",
    "plt.plot(y, sq_decorated, lw = 0.7, label = '$\\mathrm{Decorated}$')\n",
    "plt.xlabel('$x$')\n",
    "plt.ylabel('$f(x)$')\n",
    "plt.legend(loc = 0, frameon = False)\n",
    "plt.grid(True,dashes=(1,3))"
   ]
  },
  {
   "cell_type": "markdown",
   "id": "63e7eea6",
   "metadata": {},
   "source": [
    "### `probit`"
   ]
  },
  {
   "cell_type": "markdown",
   "id": "a24a23d8",
   "metadata": {},
   "source": [
    "This decorator takes as input a function $f:\\mathbb{N} \\to \\mathbb{R}^n$ and returns a function $g:\\mathbb{P} \\to \\mathbb{R}^n$. It does so by first transforming the point from natural space to probit space with `transform_to_probit` and then evaluating the decorated function in the transformed point.\n",
    "\n",
    "As above, check that the decorated identity function works as coordinate changer:"
   ]
  },
  {
   "cell_type": "code",
   "execution_count": null,
   "id": "c33e0984",
   "metadata": {},
   "outputs": [],
   "source": [
    "@probit\n",
    "def identity(ref, x):\n",
    "    return x\n",
    "\n",
    "plt.plot(x, identity(ref, x))\n",
    "plt.xlabel('$x$')\n",
    "plt.ylabel('$f(x)$')\n",
    "plt.grid(True,dashes=(1,3))"
   ]
  },
  {
   "cell_type": "markdown",
   "id": "891da1b4",
   "metadata": {},
   "source": [
    "Square law:"
   ]
  },
  {
   "cell_type": "code",
   "execution_count": null,
   "id": "23145b3c",
   "metadata": {},
   "outputs": [],
   "source": [
    "@probit\n",
    "def square_decorated(ref, x):\n",
    "    return 2*x**2\n",
    "\n",
    "def square(ref, x):\n",
    "    return 2*x**2\n",
    "\n",
    "\n",
    "sq = square(ref, x)\n",
    "sq_decorated = square_decorated(ref, x)\n",
    "\n",
    "plt.plot(x, sq, lw = 0.7, label = '$\\mathrm{Not\\ decorated}$')\n",
    "plt.plot(x, sq_decorated, lw = 0.7, label = '$\\mathrm{Decorated}$')\n",
    "plt.xlabel('$x$')\n",
    "plt.ylabel('$f(x)$')\n",
    "plt.legend(loc = 0, frameon = False)\n",
    "plt.grid(True,dashes=(1,3))"
   ]
  },
  {
   "cell_type": "markdown",
   "id": "2a548652",
   "metadata": {},
   "source": [
    "### `from_probit`"
   ]
  },
  {
   "cell_type": "markdown",
   "id": "133fceee",
   "metadata": {},
   "source": [
    "This decorator takes as input a function $f:\\mathbb{R}^n \\to \\mathbb{P}$ and returns a function $g:\\mathbb{R}^n \\to \\mathbb{N}$. It does so by first evaluating the decorated function in the transformed point and then transforming the point from probit space to natural space with `transform_from_probit`.\n",
    "\n",
    "As above, the first check ensures that for the identity function this works as a coordinate changer:"
   ]
  },
  {
   "cell_type": "code",
   "execution_count": null,
   "id": "2950588b",
   "metadata": {},
   "outputs": [],
   "source": [
    "@from_probit\n",
    "def identity(ref, x):\n",
    "    return x\n",
    "\n",
    "plt.plot(y, identity(ref, y))\n",
    "plt.xlabel('$x$')\n",
    "plt.ylabel('$f(x)$')\n",
    "plt.grid(True,dashes=(1,3))"
   ]
  },
  {
   "cell_type": "markdown",
   "id": "4b03744d",
   "metadata": {},
   "source": [
    "Square law:"
   ]
  },
  {
   "cell_type": "code",
   "execution_count": null,
   "id": "7c730b7b",
   "metadata": {},
   "outputs": [],
   "source": [
    "@from_probit\n",
    "def square_decorated(ref, x):\n",
    "    return 2*x**2\n",
    "\n",
    "sq_decorated = square_decorated(ref, y)\n",
    "\n",
    "plt.plot(y, sq_decorated, lw = 0.7, label = '$\\mathrm{Decorated}$')\n",
    "plt.xlabel('$x$')\n",
    "plt.ylabel('$f(x)$')\n",
    "plt.legend(loc = 0, frameon = False)\n",
    "plt.grid(True,dashes=(1,3))"
   ]
  },
  {
   "cell_type": "markdown",
   "id": "ade98440",
   "metadata": {},
   "source": [
    "## Cartesian/celestial decorators"
   ]
  },
  {
   "cell_type": "markdown",
   "id": "335faac9",
   "metadata": {},
   "source": [
    "These decorators are used in the `threeDvolume.py` module in order to simplify the volume reconstruction by working in cartesian coordinates $x,y,z$ instead of celestial coordinates $\\alpha,\\delta,D_L$."
   ]
  },
  {
   "cell_type": "markdown",
   "id": "209fc928",
   "metadata": {},
   "source": [
    "### `celestial`"
   ]
  },
  {
   "cell_type": "markdown",
   "id": "1de3adda",
   "metadata": {},
   "source": [
    "We will show that the decorated identity function acts as a coordinate changer:"
   ]
  },
  {
   "cell_type": "code",
   "execution_count": null,
   "id": "390a4930",
   "metadata": {},
   "outputs": [],
   "source": [
    "@celestial\n",
    "def identity(ref, x):\n",
    "    return x\n",
    "\n",
    "points = np.random.uniform(-100, 100, size = (200000,3))\n",
    "celestial_points = identity(ref, points)\n",
    "# Sphere inscribed in the cube\n",
    "celestial_points = celestial_points[celestial_points[:,2] < 100]\n",
    "\n",
    "c = corner(celestial_points, labels = ['$\\\\alpha$', '$\\\\delta$', '$D_L$'])"
   ]
  },
  {
   "cell_type": "markdown",
   "id": "ca01ca1d",
   "metadata": {},
   "source": [
    "### `cartesian`"
   ]
  },
  {
   "cell_type": "markdown",
   "id": "ed4d35cf",
   "metadata": {},
   "source": [
    "As above, the decorated identity function is expected to act as coordinate changer: "
   ]
  },
  {
   "cell_type": "code",
   "execution_count": null,
   "id": "2b2c6526",
   "metadata": {},
   "outputs": [],
   "source": [
    "@cartesian\n",
    "def identity(ref, x):\n",
    "    return x\n",
    "\n",
    "R = 100*np.sqrt(3)\n",
    "n_samps = 1000000\n",
    "\n",
    "phi = np.random.uniform(0,2*np.pi, size = n_samps)\n",
    "costheta = np.random.uniform(-1,1, size = n_samps)\n",
    "u = np.random.uniform(0,1, size = n_samps)\n",
    "theta = np.arcsin(costheta)\n",
    "r = R * np.cbrt(u)\n",
    "\n",
    "points = np.array([phi, theta, r]).T\n",
    "cartesian_points = identity(ref, points)\n",
    "# Cube inscribed in the sphere\n",
    "cartesian_points = cartesian_points[abs(cartesian_points[:,0]) < 100]\n",
    "cartesian_points = cartesian_points[abs(cartesian_points[:,1]) < 100]\n",
    "cartesian_points = cartesian_points[abs(cartesian_points[:,2]) < 100]\n",
    "\n",
    "c = corner(cartesian_points, labels = ['$x$', '$y$', '$z$'])"
   ]
  }
 ],
 "metadata": {
  "kernelspec": {
   "display_name": "Python 3 (ipykernel)",
   "language": "python",
   "name": "python3"
  },
  "language_info": {
   "codemirror_mode": {
    "name": "ipython",
    "version": 3
   },
   "file_extension": ".py",
   "mimetype": "text/x-python",
   "name": "python",
   "nbconvert_exporter": "python",
   "pygments_lexer": "ipython3",
   "version": "3.7.8"
  }
 },
 "nbformat": 4,
 "nbformat_minor": 5
}
