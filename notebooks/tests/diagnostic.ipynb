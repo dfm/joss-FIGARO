{
 "cells": [
  {
   "cell_type": "markdown",
   "id": "7f116604",
   "metadata": {},
   "source": [
    "# Diagnostic"
   ]
  },
  {
   "cell_type": "markdown",
   "id": "393a3d4e",
   "metadata": {},
   "source": [
    "This notebook tests the `diagnostic.py` module.\n",
    "\n",
    "This module contains a set of methods that can be used to asses the convergence of the **underlying** sampler that provides the samples to FIGARO (e.g., LALInference or Bilby for skymaps)."
   ]
  },
  {
   "cell_type": "markdown",
   "id": "c252e8e2",
   "metadata": {},
   "source": [
    "## Angular coefficient"
   ]
  },
  {
   "cell_type": "markdown",
   "id": "96dca87d",
   "metadata": {},
   "source": [
    "These functions computes the angular coefficient obtained from linear regression of a set of points."
   ]
  },
  {
   "cell_type": "markdown",
   "id": "4025bc79",
   "metadata": {},
   "source": [
    "### `angular_coefficient`\n"
   ]
  },
  {
   "cell_type": "markdown",
   "id": "8734fbdd",
   "metadata": {},
   "source": [
    "Given two arrays of points ($x$ and $f(x)$), returns the angular coefficient obtained assuming a linear relationship between $x$ and $f(x)$.\n",
    "\n",
    "With just two points, this reduces to the usual formula for the angular coefficient of a straight line passing through two points:"
   ]
  },
  {
   "cell_type": "code",
   "execution_count": null,
   "id": "26ba2b65",
   "metadata": {},
   "outputs": [],
   "source": [
    "import numpy as np\n",
    "from figaro.diagnostic import angular_coefficient\n",
    "\n",
    "#(0,0) and (1,2)\n",
    "print(angular_coefficient(x = np.array([0,1]), y = np.array([0,2])))"
   ]
  },
  {
   "cell_type": "markdown",
   "id": "456dcdda",
   "metadata": {},
   "source": [
    "A set of points from a line:"
   ]
  },
  {
   "cell_type": "code",
   "execution_count": null,
   "id": "42882c8c",
   "metadata": {},
   "outputs": [],
   "source": [
    "m = 4\n",
    "q = 3\n",
    "\n",
    "x = np.linspace(0,10, 3000)\n",
    "y = m*x+q\n",
    "print(angular_coefficient(x, y))"
   ]
  },
  {
   "cell_type": "markdown",
   "id": "4e44d664",
   "metadata": {},
   "source": [
    "Let's add some Gaussian noise on the points:"
   ]
  },
  {
   "cell_type": "code",
   "execution_count": null,
   "id": "e1fa02e3",
   "metadata": {},
   "outputs": [],
   "source": [
    "y = m*x+q + np.random.normal(loc = 0, scale = 2, size = len(x))\n",
    "ac = angular_coefficient(x,y)\n",
    "print(ac)\n",
    "\n",
    "import matplotlib.pyplot as plt\n",
    "t = plt.plot(x, y, lw = 0.5, color = 'steelblue', marker = '')\n",
    "t = plt.plot(x, ac*x+q, color = 'r', ls = '--')\n",
    "plt.xlabel('$x$')\n",
    "plt.ylabel('$y$')\n",
    "plt.grid(alpha = 0.5)"
   ]
  },
  {
   "cell_type": "markdown",
   "id": "63f3e9aa",
   "metadata": {},
   "source": [
    "### `compute_angular_coefficients`"
   ]
  },
  {
   "cell_type": "markdown",
   "id": "82749b3c",
   "metadata": {},
   "source": [
    "Given an array of points $x$, computes the angular coefficient as a function of the position on the array on all the adjacent windows of length $L$ that can be found in the array."
   ]
  },
  {
   "cell_type": "code",
   "execution_count": null,
   "id": "9865692b",
   "metadata": {},
   "outputs": [],
   "source": [
    "from figaro.diagnostic import compute_angular_coefficients\n",
    "\n",
    "L     = 100\n",
    "n_pts = 1000\n",
    "\n",
    "x = np.arange(n_pts) + np.random.normal(loc = 0, scale = 2, size = n_pts)\n",
    "ac = compute_angular_coefficients(x, L = L)\n",
    "\n",
    "plt.plot(np.arange(len(ac))+L, ac, lw = 0.8, ls = '--', color = 'steelblue')\n",
    "plt.axhline(1, ls = '--', lw = 0.5, color = 'r')\n",
    "plt.xlabel('$i$')\n",
    "plt.ylabel('$m$')\n",
    "plt.grid(alpha = 0.5)"
   ]
  },
  {
   "cell_type": "markdown",
   "id": "c47e0cf1",
   "metadata": {},
   "source": [
    "### `plot_angular_coefficient`"
   ]
  },
  {
   "cell_type": "markdown",
   "id": "39418b6e",
   "metadata": {},
   "source": [
    "The same plot as above can be obtained by calling `plot_angular_coefficient`:"
   ]
  },
  {
   "cell_type": "code",
   "execution_count": null,
   "id": "f2259d30",
   "metadata": {},
   "outputs": [],
   "source": [
    "from figaro.diagnostic import plot_angular_coefficient\n",
    "\n",
    "S = plot_angular_coefficient(x, L = L, ac_expected = 1, show = True, save = False)"
   ]
  },
  {
   "cell_type": "markdown",
   "id": "82b3e728",
   "metadata": {},
   "source": [
    "## Entropy"
   ]
  },
  {
   "cell_type": "markdown",
   "id": "fb5af4c9",
   "metadata": {},
   "source": [
    "This set of methods computes the differential entropy of a distribution, defined as\\\n",
    "$\n",
    "S = -\\int p(x) \\log p(x) dx\\,,\n",
    "$\\\n",
    "via Monte Carlo integration. These methods work for any class with a `rvs` and `logpdf` method (e.g. `figaro.mixture.mixture/DPGMM/HDPGMM` or any `scipy.stats` class)."
   ]
  },
  {
   "cell_type": "markdown",
   "id": "30c2fe69",
   "metadata": {},
   "source": [
    "### `compute_entropy_single_draw`"
   ]
  },
  {
   "cell_type": "markdown",
   "id": "097912c5",
   "metadata": {},
   "source": [
    "This method computes the differential entropy of a single distribution (a FIGARO draw, for example) via Monte Carlo integration, expressed in bits.\n",
    "\n",
    "We will test this method with a single Gaussian distribution. For this distribution, $S=\\ln\\Big(\\sigma\\sqrt{2\\pi e}\\Big)$"
   ]
  },
  {
   "cell_type": "code",
   "execution_count": null,
   "id": "9f2b6db6",
   "metadata": {},
   "outputs": [],
   "source": [
    "from figaro.diagnostic import compute_entropy_single_draw\n",
    "from scipy.stats import norm\n",
    "\n",
    "mu = 0\n",
    "sigma = 1\n",
    "S_exp = np.log(sigma*np.sqrt(2*np.pi*np.e))\n",
    "\n",
    "# In bits\n",
    "S, dS = compute_entropy_single_draw(norm(loc = mu, scale = sigma), return_error = True)\n",
    "# In nats\n",
    "print('{0:.4f}+-{1:.4f}, expected: {2:.4f}'.format(S*np.log2(np.e), dS*np.log2(np.e), S_exp))"
   ]
  },
  {
   "cell_type": "markdown",
   "id": "421d8cc4",
   "metadata": {},
   "source": [
    "Uniform distribution, $S = \\ln(x_{\\mathrm{max}} - x_{\\mathrm{min}})$:"
   ]
  },
  {
   "cell_type": "code",
   "execution_count": null,
   "id": "7701f003",
   "metadata": {},
   "outputs": [],
   "source": [
    "from scipy.stats import uniform\n",
    "\n",
    "xmin = -5\n",
    "xmax = 5\n",
    "S_exp = np.log(xmax-xmin)\n",
    "# Bits\n",
    "S, dS = compute_entropy_single_draw(uniform(xmin, xmax-xmin), return_error = True)\n",
    "# Nats\n",
    "print('{0}+-{1}, expected: {2}'.format(S*np.log2(np.e), dS*np.log2(np.e), S_exp))"
   ]
  },
  {
   "cell_type": "markdown",
   "id": "151841d4",
   "metadata": {},
   "source": [
    "Exponential distribution, $S=1-\\ln(\\lambda)$:"
   ]
  },
  {
   "cell_type": "code",
   "execution_count": null,
   "id": "ecb802fb",
   "metadata": {},
   "outputs": [],
   "source": [
    "from scipy.stats import expon\n",
    "\n",
    "l = 2\n",
    "S_exp = 1 - np.log(l)\n",
    "# Bits\n",
    "S, dS = compute_entropy_single_draw(expon(scale = 1/l), return_error = True)\n",
    "# Nats\n",
    "print('{0:.4f}+-{1:.4f}, expected: {2:.4f}'.format(S*np.log2(np.e), dS*np.log2(np.e), S_exp))"
   ]
  },
  {
   "cell_type": "markdown",
   "id": "8de97860",
   "metadata": {},
   "source": [
    "### `compute_entropy`"
   ]
  },
  {
   "cell_type": "markdown",
   "id": "896380fc",
   "metadata": {},
   "source": [
    "Computes the entropy of an array of distributions (`for` loop wrapper):"
   ]
  },
  {
   "cell_type": "code",
   "execution_count": null,
   "id": "d3c931b1",
   "metadata": {},
   "outputs": [],
   "source": [
    "from figaro.diagnostic import compute_entropy\n",
    "\n",
    "distributions = [norm(mu, sigma), uniform(xmin, xmax-xmin), expon(scale = 1/l)]\n",
    "S, dS         = compute_entropy(distributions, n_draws = 1e4, return_error = True)\n",
    "exp_entropies = [np.log(sigma*np.sqrt(2*np.pi*np.e)), np.log(xmax-xmin), 1 - np.log(l)]\n",
    "\n",
    "for Si, dSi, S_exp, name in zip(S, dS, exp_entropies, ['Gaussian', 'Uniform', 'Exponential']):\n",
    "    print('{0}: {1:.4f}+-{2:.4f}, expected {3:.4f}'.format(name, Si*np.log2(np.e), dSi*np.log2(np.e), S_exp))"
   ]
  },
  {
   "cell_type": "markdown",
   "id": "688b8dc0",
   "metadata": {},
   "source": [
    "This function is meant to study the evolution of the FIGARO reconstruction entropy as a function of the number of samples added to the mixture, as demonstrated in the following."
   ]
  },
  {
   "cell_type": "markdown",
   "id": "68f1f9d8",
   "metadata": {},
   "source": [
    "### `entropy`"
   ]
  },
  {
   "cell_type": "markdown",
   "id": "6f8d2e15",
   "metadata": {},
   "source": [
    "This method calls `compute_entropy` on an array of distributions and makes a fancy plot with the entropy.\n",
    "\n",
    "In the following, we will show the evolution of the FIGARO reconstruction entropy. The target distribution is a Gaussian distribution. "
   ]
  },
  {
   "cell_type": "code",
   "execution_count": null,
   "id": "4d0c16b3",
   "metadata": {},
   "outputs": [],
   "source": [
    "from figaro.mixture import DPGMM\n",
    "from tqdm import tqdm\n",
    "\n",
    "mu      = 0\n",
    "sigma   = 1\n",
    "n_samps = 10000\n",
    "\n",
    "samples = norm(mu, sigma).rvs(n_samps)\n",
    "mix     = DPGMM([[-5,5]])\n",
    "draws   = []\n",
    "\n",
    "for s in tqdm(samples):\n",
    "    mix.add_new_point(s)\n",
    "    draws.append(mix.build_mixture())"
   ]
  },
  {
   "cell_type": "markdown",
   "id": "d804986f",
   "metadata": {},
   "source": [
    "Now let's have a look at the entropy evolution:"
   ]
  },
  {
   "cell_type": "code",
   "execution_count": null,
   "id": "af394f5a",
   "metadata": {},
   "outputs": [],
   "source": [
    "from figaro.diagnostic import entropy\n",
    "\n",
    "S = entropy(draws,\n",
    "            exp_entropy = np.log(sigma*np.sqrt(2*np.pi*np.e))/np.log2(np.e), # Entropy in bits\n",
    "            show = True,\n",
    "            save = False,\n",
    "            )"
   ]
  },
  {
   "cell_type": "markdown",
   "id": "4349d21e",
   "metadata": {},
   "source": [
    "## Autocorrelation\n"
   ]
  },
  {
   "cell_type": "markdown",
   "id": "b75e92f7",
   "metadata": {},
   "source": [
    "These functions compute the autocorrelation function for a set of functions, where the autocorrelation is defined as\\\n",
    "$\n",
    "C(\\tau) = \\Big\\langle \\frac{\\int(f_t(x) - \\bar f(x))(f_{t+\\tau}(x) - \\bar f(x)) dx}{\\int (f_t(x) - \\bar f(x))^2 dx}\\Big\\rangle_t\\,.\n",
    "$"
   ]
  },
  {
   "cell_type": "markdown",
   "id": "fcee431e",
   "metadata": {},
   "source": [
    "### `compute_autocorrelation`"
   ]
  },
  {
   "cell_type": "markdown",
   "id": "ee813707",
   "metadata": {},
   "source": [
    "This method computes the autocorrelation function.\\\n",
    "For a deterministic process in which we define $f_i(x) = y_i$ and $y_i = \\lambda y_{i-1}$ with $\\lambda < 1$, we have that $C(\\tau) = \\lambda^{\\tau}$. "
   ]
  },
  {
   "cell_type": "code",
   "execution_count": null,
   "id": "dcacb1f5",
   "metadata": {},
   "outputs": [],
   "source": [
    "from figaro.diagnostic import compute_autocorrelation\n",
    "\n",
    "ndata = 10000\n",
    "acl = 0.9\n",
    "y = np.zeros(ndata)\n",
    "y[0] = 1\n",
    "\n",
    "for i in range(0,len(w)-1):\n",
    "    y[i+1] = y[i]*acl\n",
    "\n",
    "draws = np.array([np.ones(10)*(y_i) for y_i in y])\n",
    "tmax, autoc = compute_autocorrelation(draws, np.mean(draws, axis = 0), dx)\n",
    "\n",
    "taus = np.arange(tmax)\n",
    "plt.plot(taus, autoc, label = 'Autocorrelation')\n",
    "plt.plot(taus, acl**taus, ls = '--', label = '$\\lambda^{\\\\tau}$')\n",
    "plt.legend(loc = 0, frameon = False)\n",
    "plt.grid(alpha = 0.5)\n",
    "l = plt.xlim(0,60)"
   ]
  },
  {
   "cell_type": "markdown",
   "id": "252d7526",
   "metadata": {},
   "source": [
    "### `autocorrelation`"
   ]
  },
  {
   "cell_type": "markdown",
   "id": "fadfd836",
   "metadata": {},
   "source": [
    "This method calls the previous one to compute the autocorrelation and produces the relevant plot. It is tailored to work with FIGARO, therefore it expects a list of `mixture` instances."
   ]
  },
  {
   "cell_type": "code",
   "execution_count": null,
   "id": "7c24f329",
   "metadata": {},
   "outputs": [],
   "source": [
    "from figaro.diagnostic import autocorrelation\n",
    "from figaro.mixture import DPGMM\n",
    "from tqdm import tqdm\n",
    "\n",
    "samples = norm().rvs(1000)\n",
    "mix = DPGMM([[-5,5]])\n",
    "n_draws = 100\n",
    "\n",
    "draws = []\n",
    "for _ in tqdm(range(n_draws)):\n",
    "    draws.append(mix.density_from_samples(samples))\n",
    "    \n",
    "autocorr = autocorrelation(draws, save = False, show = True)\n"
   ]
  }
 ],
 "metadata": {
  "kernelspec": {
   "display_name": "Python 3 (ipykernel)",
   "language": "python",
   "name": "python3"
  },
  "language_info": {
   "codemirror_mode": {
    "name": "ipython",
    "version": 3
   },
   "file_extension": ".py",
   "mimetype": "text/x-python",
   "name": "python",
   "nbconvert_exporter": "python",
   "pygments_lexer": "ipython3",
   "version": "3.7.8"
  }
 },
 "nbformat": 4,
 "nbformat_minor": 5
}
