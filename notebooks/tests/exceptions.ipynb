{
 "cells": [
  {
   "cell_type": "markdown",
   "id": "d3ae4243",
   "metadata": {},
   "source": [
    "# `exceptions.py`"
   ]
  },
  {
   "cell_type": "markdown",
   "id": "df43b82e",
   "metadata": {},
   "source": [
    "This notebook tests the `exceptions` module.\n",
    "\n",
    "This module contains the definition of the `FIGAROException` exception and the `except_hook` for catching known issues due to improper usage of FIGARO during the run."
   ]
  },
  {
   "cell_type": "markdown",
   "id": "0fdb410a",
   "metadata": {},
   "source": [
    "## `FIGAROException`"
   ]
  },
  {
   "cell_type": "markdown",
   "id": "cf75386f",
   "metadata": {},
   "source": [
    "Inherits from the `Exception` class. It simply prints an error message without performing any action."
   ]
  },
  {
   "cell_type": "code",
   "execution_count": null,
   "id": "00f1723e",
   "metadata": {
    "tags": [
     "raises-exception"
    ]
   },
   "outputs": [],
   "source": [
    "from figaro.exceptions import FIGAROException\n",
    "\n",
    "raise FIGAROException(\"Some fancy error message here\")"
   ]
  },
  {
   "cell_type": "markdown",
   "id": "18f7024c",
   "metadata": {},
   "source": [
    "## `except_hook`"
   ]
  },
  {
   "cell_type": "markdown",
   "id": "98ec80ed",
   "metadata": {},
   "source": [
    "Wrapper for `sys.__excepthook__` that reads the traceback and if the exception raised corresponds to a known FIGARO issue due to improper usage, adds an error message with an hint about how to solve the issue.\n",
    "\n",
    "**Warning:** Since his kind of implementation does not work with `IPyhton`/`jupyter notebook` (see [this answer](https://stackoverflow.com/a/28758396)), we will run a Python script as it was from command line."
   ]
  },
  {
   "cell_type": "code",
   "execution_count": null,
   "id": "0b1a64d3",
   "metadata": {},
   "outputs": [],
   "source": [
    "! cat errtest.py"
   ]
  },
  {
   "cell_type": "code",
   "execution_count": null,
   "id": "10a91edc",
   "metadata": {},
   "outputs": [],
   "source": [
    "! python errtest.py"
   ]
  }
 ],
 "metadata": {
  "kernelspec": {
   "display_name": "Python 3 (ipykernel)",
   "language": "python",
   "name": "python3"
  },
  "language_info": {
   "codemirror_mode": {
    "name": "ipython",
    "version": 3
   },
   "file_extension": ".py",
   "mimetype": "text/x-python",
   "name": "python",
   "nbconvert_exporter": "python",
   "pygments_lexer": "ipython3",
   "version": "3.7.8"
  }
 },
 "nbformat": 4,
 "nbformat_minor": 5
}
