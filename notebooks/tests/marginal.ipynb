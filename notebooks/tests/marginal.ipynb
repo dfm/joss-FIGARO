{
 "cells": [
  {
   "cell_type": "markdown",
   "id": "1bcda46d",
   "metadata": {},
   "source": [
    "# `marginal.py`"
   ]
  },
  {
   "cell_type": "markdown",
   "id": "131b8c62",
   "metadata": {},
   "source": [
    "This notebook tests the `marginal` module.\n",
    "\n",
    "This module contains the methods to marginalise FIGARO draws along the desired axis. The idea is to use the fact that marginalising a multivariate Gaussian distribution over a subspace is equivalent to remove the corresponding entries from mean and covariance of the multivariate Gaussian (e.g. [Robb J. Muirhead, Aspects of Multivariate Statistical Theory](http://www.ru.ac.bd/wp-content/uploads/sites/25/2019/03/401_06_Muirhead_Aspects-of-multivariate-statistical-theory.pdf), th. 1.2.7)"
   ]
  },
  {
   "cell_type": "code",
   "execution_count": null,
   "id": "465802ca",
   "metadata": {},
   "outputs": [],
   "source": [
    "from figaro.mixture import DPGMM\n",
    "from scipy.stats import multivariate_normal as mn\n",
    "from corner import corner\n",
    "import numpy as np\n",
    "\n",
    "mu    = np.zeros(2)\n",
    "sigma = np.array([[2,1.5],[1.5,2]])\n",
    "\n",
    "samples = mn(mu, sigma).rvs(1000)\n",
    "\n",
    "c = corner(samples)"
   ]
  },
  {
   "cell_type": "code",
   "execution_count": null,
   "id": "beeb135b",
   "metadata": {},
   "outputs": [],
   "source": [
    "from tqdm import tqdm\n",
    "\n",
    "mix   = DPGMM([[-8,8],[-8,8]])\n",
    "draws = np.array([mix.density_from_samples(samples) for _ in tqdm(range(100))])"
   ]
  },
  {
   "cell_type": "markdown",
   "id": "9a677519",
   "metadata": {},
   "source": [
    "## `_marginalise`"
   ]
  },
  {
   "cell_type": "markdown",
   "id": "4cf9b4ec",
   "metadata": {},
   "source": [
    "This method marginalises a single FIGARO draw by removing the corresponding entries from means and covariances of the DPGMM."
   ]
  },
  {
   "cell_type": "code",
   "execution_count": null,
   "id": "7170c94e",
   "metadata": {},
   "outputs": [],
   "source": [
    "from figaro.marginal import _marginalise\n",
    "from figaro.utils import recursive_grid\n",
    "\n",
    "d = draws[0]\n",
    "grid, dgrid = recursive_grid(d.bounds, np.ones(2, dtype = int)*1000)\n",
    "\n",
    "p = d.pdf(grid).reshape(1000,1000)"
   ]
  },
  {
   "cell_type": "markdown",
   "id": "e385c4d0",
   "metadata": {},
   "source": [
    "First dimension:"
   ]
  },
  {
   "cell_type": "code",
   "execution_count": null,
   "id": "6c71a656",
   "metadata": {
    "scrolled": true
   },
   "outputs": [],
   "source": [
    "import matplotlib.pyplot as plt\n",
    "\n",
    "x = np.linspace(d.bounds[0,0], d.bounds[0,1], 1002)[1:-1]\n",
    "\n",
    "# Numerical marginalisation\n",
    "p1 = p.sum(axis = 1)*dgrid[1]\n",
    "# Analytical marginalisation\n",
    "marg_d = _marginalise(d, 1)\n",
    "\n",
    "plt.plot(x, p1)\n",
    "plt.plot(x, marg_d.pdf(x), ls = '--')\n",
    "\n",
    "np.allclose(p1, marg_d.pdf(x), atol = 1e-15)"
   ]
  },
  {
   "cell_type": "markdown",
   "id": "bda51d91",
   "metadata": {},
   "source": [
    "Second dimension:# Numerical marginalisation\n",
    "p1 = p.sum(axis = 1)*dgrid[1]\n",
    "# Analytical marginalisation\n",
    "marg_d = _marginalise(d, 1)\n",
    "\n",
    "plt.plot(x, p1)\n",
    "plt.plot(x, marg_d.pdf(x))\n",
    "\n",
    "np.allclose(p1, marg_d.pdf(x), atol = 1e-15)"
   ]
  },
  {
   "cell_type": "code",
   "execution_count": null,
   "id": "ed41f00e",
   "metadata": {},
   "outputs": [],
   "source": [
    "# Numerical marginalisation\n",
    "p2 = p.sum(axis = 0)*dgrid[0]\n",
    "# Analytical marginalisation\n",
    "marg_d = _marginalise(d, 0)\n",
    "\n",
    "plt.plot(x, p2)\n",
    "plt.plot(x, marg_d.pdf(x), ls = '--')\n",
    "\n",
    "np.allclose(p2, marg_d.pdf(x), atol = 1e-15)"
   ]
  },
  {
   "cell_type": "markdown",
   "id": "b0caf58c",
   "metadata": {},
   "source": [
    "Marginalising on all dimensions raises an error:"
   ]
  },
  {
   "cell_type": "code",
   "execution_count": null,
   "id": "a9739a8c",
   "metadata": {
    "tags": [
     "raises-exception"
    ]
   },
   "outputs": [],
   "source": [
    "marg_d = _marginalise(d, [0,1])"
   ]
  },
  {
   "cell_type": "markdown",
   "id": "9de8378a",
   "metadata": {},
   "source": [
    "## `marginalise`"
   ]
  },
  {
   "cell_type": "markdown",
   "id": "044928fc",
   "metadata": {},
   "source": [
    "This method is a wrapper for the private `_marginalise` that handles the possibility of having a list of draws. If the `axis` argument is an empty list, no marginalisation is done."
   ]
  },
  {
   "cell_type": "code",
   "execution_count": null,
   "id": "c9956dee",
   "metadata": {},
   "outputs": [],
   "source": [
    "from figaro.marginal import marginalise\n",
    "from figaro.utils import plot_median_cr\n",
    "\n",
    "d1 = marginalise(draws, 0)\n",
    "plot_median_cr(d1, save = False, show = True)"
   ]
  }
 ],
 "metadata": {
  "kernelspec": {
   "display_name": "Python 3 (ipykernel)",
   "language": "python",
   "name": "python3"
  },
  "language_info": {
   "codemirror_mode": {
    "name": "ipython",
    "version": 3
   },
   "file_extension": ".py",
   "mimetype": "text/x-python",
   "name": "python",
   "nbconvert_exporter": "python",
   "pygments_lexer": "ipython3",
   "version": "3.7.8"
  }
 },
 "nbformat": 4,
 "nbformat_minor": 5
}
