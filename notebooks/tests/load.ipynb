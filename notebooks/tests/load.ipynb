{
 "cells": [
  {
   "cell_type": "markdown",
   "id": "4cd00ff5",
   "metadata": {},
   "source": [
    "# `load.py`"
   ]
  },
  {
   "cell_type": "markdown",
   "id": "a10ea63a",
   "metadata": {},
   "source": [
    "This notebook tests the `load.py` module.\n",
    "\n",
    "Two different loading methods are available, `load_single_event` and `load_data`. The former requires the path to a single file, while the latter loads all the files stored in a folder.\\\n",
    "**NB**: the `load_data` method attempts to load all the files stored in the given folder without running any check, so any sanity/consistency check must be done by the user. \\\n",
    "Moreover, the methods behave differently on structured files (GW posterior samples) so loading a `.hdf5` file direcly or copying all of its content in a `.txt` file and loading the data from there result in **different** data sets.\\\n",
    "This difference is due to the fact that a structured file allows the user to know what kind of data are being loaded: in this situation it is possible to preprocess the data, like transforming luminosity distance samples in redshift samples or transform detector-frame mass samples in source-frame mass samples."
   ]
  },
  {
   "cell_type": "markdown",
   "id": "ae8463d4",
   "metadata": {},
   "source": [
    "## `available_gw_pars`"
   ]
  },
  {
   "cell_type": "markdown",
   "id": "17bab064",
   "metadata": {},
   "source": [
    "This method prints a list of names that can be passed in the `par` list argument to the load methods."
   ]
  },
  {
   "cell_type": "code",
   "execution_count": null,
   "id": "3bf99037",
   "metadata": {},
   "outputs": [],
   "source": [
    "from figaro.load import available_gw_pars\n",
    "available_gw_pars()"
   ]
  },
  {
   "cell_type": "markdown",
   "id": "eebed241",
   "metadata": {},
   "source": [
    "## `load_single_event`"
   ]
  },
  {
   "cell_type": "markdown",
   "id": "ea22c466",
   "metadata": {},
   "source": [
    "The single-event loader can handle both `.txt` files (all columns are loaded, regardless of their eventual header) and `.h5/.hdf5/.dat` files from GWTC-x data release."
   ]
  },
  {
   "cell_type": "markdown",
   "id": "72a0e848",
   "metadata": {},
   "source": [
    "### 1D data from txt"
   ]
  },
  {
   "cell_type": "markdown",
   "id": "9b1f245f",
   "metadata": {},
   "source": [
    "Let's compare a single `.txt` file loaded with `numpy.genfromtxt` method with the same file loaded with `load_single_event`."
   ]
  },
  {
   "cell_type": "code",
   "execution_count": null,
   "id": "5ac34a46",
   "metadata": {},
   "outputs": [],
   "source": [
    "import numpy as np\n",
    "from figaro.load import load_single_event\n",
    "\n",
    "file = '../data/1D_norm.txt'\n",
    "\n",
    "data_genfromtxt   = np.genfromtxt(file)\n",
    "data_figaro, name = load_single_event(file)\n",
    "\n",
    "print(data_figaro.shape)"
   ]
  },
  {
   "cell_type": "markdown",
   "id": "d69849f5",
   "metadata": {},
   "source": [
    "FIGARO is designed to handle data points regardless of the number of dimensions: therefore, even though we are loading a 1D array, our method returns a 2D array with shape (N_pts, N_dim) storing a single data point in each row.\n",
    "\n",
    "Numpy-loaded data vs FIGARO-loaded data:"
   ]
  },
  {
   "cell_type": "code",
   "execution_count": null,
   "id": "136a016d",
   "metadata": {},
   "outputs": [],
   "source": [
    "np.alltrue(data_genfromtxt == data_figaro[:,0])"
   ]
  },
  {
   "cell_type": "markdown",
   "id": "aa7c3ded",
   "metadata": {},
   "source": [
    "A subset of samples can be loaded using the `n_samples` keyword:"
   ]
  },
  {
   "cell_type": "code",
   "execution_count": null,
   "id": "d5c78978",
   "metadata": {},
   "outputs": [],
   "source": [
    "data_figaro, name = load_single_event(file, n_samples = 100)\n",
    "\n",
    "print(data_figaro.shape)"
   ]
  },
  {
   "cell_type": "markdown",
   "id": "902b55d2",
   "metadata": {},
   "source": [
    "Check that the `seed` keyword actually ensure reproducibility drawing the same subset each time:"
   ]
  },
  {
   "cell_type": "code",
   "execution_count": null,
   "id": "46a50fdc",
   "metadata": {},
   "outputs": [],
   "source": [
    "data_noseed, name = load_single_event(file, n_samples = 100)\n",
    "data_seed_1, name = load_single_event(file, n_samples = 100, seed = True)\n",
    "data_seed_2, name = load_single_event(file, n_samples = 100, seed = True)\n",
    "\n",
    "print('No seed/seed:',np.alltrue(data_seed_1 == data_noseed)) \n",
    "print('Seed 1/Seed 2:',np.alltrue(data_seed_1 == data_seed_2))"
   ]
  },
  {
   "cell_type": "markdown",
   "id": "81c24484",
   "metadata": {},
   "source": [
    "An eventual `par` argument is ignored by the loading routine if the provided file is a `.txt` and a warning is raised:"
   ]
  },
  {
   "cell_type": "code",
   "execution_count": null,
   "id": "52352c25",
   "metadata": {},
   "outputs": [],
   "source": [
    "data_figaro_par, name = load_single_event(file, par = ['m1'])\n",
    "data_figaro, name = load_single_event(file)\n",
    "np.alltrue(data_figaro_par == data_figaro)"
   ]
  },
  {
   "cell_type": "markdown",
   "id": "74d0bfb4",
   "metadata": {},
   "source": [
    "### ND data from txt"
   ]
  },
  {
   "cell_type": "markdown",
   "id": "b40352ed",
   "metadata": {},
   "source": [
    "Multidimensional data (`.txt` file with GW150914 sky position and luminosity distance):"
   ]
  },
  {
   "cell_type": "code",
   "execution_count": null,
   "id": "fb5abbef",
   "metadata": {},
   "outputs": [],
   "source": [
    "file = '../data/GW150914_full_volume.txt'\n",
    "\n",
    "data_genfromtxt   = np.genfromtxt(file)\n",
    "data_figaro, name = load_single_event(file)\n",
    "\n",
    "print(data_figaro.shape)\n",
    "np.alltrue(data_genfromtxt == data_figaro)"
   ]
  },
  {
   "cell_type": "markdown",
   "id": "b589f8b0",
   "metadata": {},
   "source": [
    "Downsampling:"
   ]
  },
  {
   "cell_type": "code",
   "execution_count": null,
   "id": "b9094e43",
   "metadata": {},
   "outputs": [],
   "source": [
    "data_figaro, name = load_single_event(file, n_samples = 100)\n",
    "\n",
    "print(data_figaro.shape)"
   ]
  },
  {
   "cell_type": "markdown",
   "id": "fb3d6a64",
   "metadata": {},
   "source": [
    "Reproducibility:"
   ]
  },
  {
   "cell_type": "code",
   "execution_count": null,
   "id": "c9be168c",
   "metadata": {},
   "outputs": [],
   "source": [
    "data_noseed, name = load_single_event(file, n_samples = 100)\n",
    "data_seed_1, name = load_single_event(file, n_samples = 100, seed = True)\n",
    "data_seed_2, name = load_single_event(file, n_samples = 100, seed = True)\n",
    "\n",
    "print('No seed/seed:',np.alltrue(data_seed_1 == data_noseed)) \n",
    "print('Seed 1/Seed 2:',np.alltrue(data_seed_1 == data_seed_2))"
   ]
  },
  {
   "cell_type": "markdown",
   "id": "1bc84d2a",
   "metadata": {},
   "source": [
    "### GW posterior samples"
   ]
  },
  {
   "cell_type": "markdown",
   "id": "53026250",
   "metadata": {},
   "source": [
    "With structured GW posteriors, the `par` argument is required, otherwise an error is raised:"
   ]
  },
  {
   "cell_type": "code",
   "execution_count": null,
   "id": "fd8f88bd",
   "metadata": {
    "tags": [
     "raises-exception"
    ]
   },
   "outputs": [],
   "source": [
    "file = '../data/GW150914_GWTC-1.hdf5'\n",
    "\n",
    "data_GW, name = load_single_event(file)"
   ]
  },
  {
   "cell_type": "code",
   "execution_count": null,
   "id": "81d37ecf",
   "metadata": {},
   "outputs": [],
   "source": [
    "data_GW_m1, name = load_single_event(file, par = ['m1'])\n",
    "print(data_GW_m1.shape)"
   ]
  },
  {
   "cell_type": "markdown",
   "id": "aaf02c69",
   "metadata": {},
   "source": [
    "The samples are the same that one finds by directly reading the `.hdf5` file:\n"
   ]
  },
  {
   "cell_type": "code",
   "execution_count": null,
   "id": "5001fbeb",
   "metadata": {},
   "outputs": [],
   "source": [
    "import h5py\n",
    "with h5py.File(file, 'r') as f:\n",
    "    LD = np.array(f['Overall_posterior']['luminosity_distance_Mpc'])\n",
    "\n",
    "LD_FIGARO, name = load_single_event(file, par = ['luminosity_distance'])\n",
    "np.alltrue(LD == LD_FIGARO[:,0])"
   ]
  },
  {
   "cell_type": "markdown",
   "id": "2b9869db",
   "metadata": {},
   "source": [
    "Multiple parameters:"
   ]
  },
  {
   "cell_type": "code",
   "execution_count": null,
   "id": "56638d56",
   "metadata": {},
   "outputs": [],
   "source": [
    "data_GW_skyloc, name = load_single_event(file, par = ['ra', 'dec', 'luminosity_distance'])\n",
    "print(data_GW_skyloc.shape)"
   ]
  },
  {
   "cell_type": "markdown",
   "id": "ba307a16",
   "metadata": {},
   "source": [
    "Downsampling:"
   ]
  },
  {
   "cell_type": "code",
   "execution_count": null,
   "id": "e928d063",
   "metadata": {},
   "outputs": [],
   "source": [
    "data_GW_skyloc, name = load_single_event(file, par = ['ra', 'dec', 'luminosity_distance'], n_samples = 100)\n",
    "print(data_GW_skyloc.shape)"
   ]
  },
  {
   "cell_type": "markdown",
   "id": "005b2eb1",
   "metadata": {},
   "source": [
    "Reproducibility:"
   ]
  },
  {
   "cell_type": "code",
   "execution_count": null,
   "id": "56900ad2",
   "metadata": {},
   "outputs": [],
   "source": [
    "data_noseed, name = load_single_event(file, par = ['ra', 'dec', 'luminosity_distance'], n_samples = 100)\n",
    "data_seed_1, name = load_single_event(file, par = ['ra', 'dec', 'luminosity_distance'], n_samples = 100, seed = True)\n",
    "data_seed_2, name = load_single_event(file, par = ['ra', 'dec', 'luminosity_distance'], n_samples = 100, seed = True)\n",
    "\n",
    "print('No seed/seed:',np.alltrue(data_seed_1 == data_noseed)) \n",
    "print('Seed 1/Seed 2:',np.alltrue(data_seed_1 == data_seed_2))"
   ]
  },
  {
   "cell_type": "markdown",
   "id": "612c89fa",
   "metadata": {},
   "source": [
    "The order in which the parameters are in the `par` list is the same in which the samples will be:"
   ]
  },
  {
   "cell_type": "code",
   "execution_count": null,
   "id": "7885f5e0",
   "metadata": {},
   "outputs": [],
   "source": [
    "data_GW_skyloc, name = load_single_event(file, par = ['ra', 'dec', 'luminosity_distance'])\n",
    "print(data_GW_skyloc[0])\n",
    "data_GW_skyloc, name = load_single_event(file, par = ['ra', 'luminosity_distance', 'dec'])\n",
    "print(data_GW_skyloc[0])"
   ]
  },
  {
   "cell_type": "markdown",
   "id": "f6041933",
   "metadata": {},
   "source": [
    "Attempting to load an unsupported parameter raises an exception:"
   ]
  },
  {
   "cell_type": "code",
   "execution_count": null,
   "id": "16891dee",
   "metadata": {
    "tags": [
     "raises-exception"
    ]
   },
   "outputs": [],
   "source": [
    "data_GW_skyloc, name = load_single_event(file, par = ['ra', 'dec', 'missing_1', 'missing_2'])"
   ]
  },
  {
   "cell_type": "markdown",
   "id": "a9b73477",
   "metadata": {},
   "source": [
    "Attempting to load an unsupported file type raises an exception:"
   ]
  },
  {
   "cell_type": "code",
   "execution_count": null,
   "id": "64f749e0",
   "metadata": {
    "tags": [
     "raises-exception"
    ]
   },
   "outputs": [],
   "source": [
    "data, name = load_single_event('../introductive_guide.ipynb')"
   ]
  },
  {
   "cell_type": "markdown",
   "id": "dde59b7f",
   "metadata": {},
   "source": [
    "Setting `volume=True` makes `load_single_event` loading the parameters required by `figaro.threeDvolume.VolumeReconstruction` in the correct order ($\\alpha,\\delta,D_L$):"
   ]
  },
  {
   "cell_type": "code",
   "execution_count": null,
   "id": "b145fbeb",
   "metadata": {},
   "outputs": [],
   "source": [
    "data_GW_skyloc, name = load_single_event(file, volume = True)\n",
    "data_GW, name        = load_single_event(file, par = ['ra', 'dec', 'luminosity_distance'])\n",
    "\n",
    "print(np.alltrue(data_GW_skyloc == data_GW)) "
   ]
  },
  {
   "cell_type": "markdown",
   "id": "a475458a",
   "metadata": {},
   "source": [
    "## `load_data`"
   ]
  },
  {
   "cell_type": "markdown",
   "id": "a8059298",
   "metadata": {},
   "source": [
    "`load_data` takes the same inputs as `load_single_event` apart from the fact that it requires a folder path instead of a file name.\n",
    "It returns a list of 2D arrays with the single-event posterior samples and a list with the names of the loaded files."
   ]
  },
  {
   "cell_type": "code",
   "execution_count": null,
   "id": "9aa90c89",
   "metadata": {
    "scrolled": true
   },
   "outputs": [],
   "source": [
    "from figaro.load import load_data\n",
    "\n",
    "folder = '../data/'\n",
    "evs, names = load_data(folder, par = ['ra', 'dec', 'luminosity_distance'])"
   ]
  },
  {
   "cell_type": "markdown",
   "id": "827f4100",
   "metadata": {},
   "source": [
    "The outcome is the same as calling load_single_event on every single file:"
   ]
  },
  {
   "cell_type": "code",
   "execution_count": null,
   "id": "ffb043f6",
   "metadata": {},
   "outputs": [],
   "source": [
    "from pathlib import Path\n",
    "evs_dict = {n:e for e,n in zip(evs, names)}\n",
    "\n",
    "for f in Path('..','data').glob('*'):\n",
    "    ev, name = load_single_event(f, par = ['ra', 'dec', 'luminosity_distance'])\n",
    "    print('{0}: {1}'.format(name, np.alltrue(ev == evs_dict[name])))"
   ]
  },
  {
   "cell_type": "markdown",
   "id": "a214cbd3",
   "metadata": {},
   "source": [
    "Check downsampling and reproducibility:"
   ]
  },
  {
   "cell_type": "code",
   "execution_count": null,
   "id": "85d49d63",
   "metadata": {},
   "outputs": [],
   "source": [
    "evs, names = load_data(folder, par = ['ra', 'dec', 'luminosity_distance'], n_samples = 100, seed = True)\n",
    "evs_dict = {n:e for e,n in zip(evs, names)}\n",
    "print('\\n')\n",
    "for f in Path('..','data').glob('*'):\n",
    "    ev, name = load_single_event(f, par = ['ra', 'dec', 'luminosity_distance'], n_samples = 100, seed = True)\n",
    "    print('{0}: {1}'.format(name, np.alltrue(ev == evs_dict[name])))"
   ]
  },
  {
   "cell_type": "markdown",
   "id": "f9bbf54b",
   "metadata": {},
   "source": [
    "Unsupported parameters:"
   ]
  },
  {
   "cell_type": "code",
   "execution_count": null,
   "id": "fb187462",
   "metadata": {
    "tags": [
     "raises-exception"
    ]
   },
   "outputs": [],
   "source": [
    "evs, names = load_data(folder, par = ['ra', 'dec', 'missing_1', 'missing_2'])"
   ]
  },
  {
   "cell_type": "markdown",
   "id": "8f6f6701",
   "metadata": {},
   "source": [
    "Passing a folder with an unsupported type raises an Exception:"
   ]
  },
  {
   "cell_type": "code",
   "execution_count": null,
   "id": "5d3cb298",
   "metadata": {
    "tags": [
     "raises-exception"
    ]
   },
   "outputs": [],
   "source": [
    "evs, names = load_data('../tests/', par = ['m1'])"
   ]
  },
  {
   "cell_type": "markdown",
   "id": "a92cfa92",
   "metadata": {},
   "source": [
    "Load parameters for `VolumeReconstruction`:"
   ]
  },
  {
   "cell_type": "code",
   "execution_count": null,
   "id": "f4164962",
   "metadata": {},
   "outputs": [],
   "source": [
    "data_GW_skyloc, name = load_data(folder, volume = True)\n",
    "data_GW, name        = load_data(folder, par = ['ra', 'dec', 'luminosity_distance'])\n",
    "\n",
    "print('\\n')\n",
    "\n",
    "for n, ev_skyloc, ev in zip(name, data_GW_skyloc, data_GW):\n",
    "    print('{0}: {1}'.format(n, np.alltrue(ev_skyloc==ev)))"
   ]
  },
  {
   "cell_type": "markdown",
   "id": "30424ff9",
   "metadata": {},
   "source": [
    "## `_find_redshift`"
   ]
  },
  {
   "cell_type": "markdown",
   "id": "5b033769",
   "metadata": {},
   "source": [
    "Given a CosmologicalParameters class instance and a luminosity distance value, this function computes the corresponding redshift value using Newton's method for finding roots. We will test this against Astropy `z_at_value`."
   ]
  },
  {
   "cell_type": "code",
   "execution_count": 3,
   "id": "f1ea9158",
   "metadata": {},
   "outputs": [],
   "source": [
    "from figaro.load import _find_redshift\n",
    "from figaro.cosmology import CosmologicalParameters\n",
    "from astropy.cosmology import LambdaCDM, z_at_value\n",
    "import astropy.units as u\n",
    "\n",
    "# Planck 2021\n",
    "h = 0.674\n",
    "om = 0.315\n",
    "ol = 0.685\n",
    "\n",
    "omega         = CosmologicalParameters(h, om, ol, -1, 0)\n",
    "astropy_omega = LambdaCDM(H0 = h*100, Om0 = om, Ode0 = ol)\n",
    "\n",
    "DL = np.linspace(0.001,1e4,1000)"
   ]
  },
  {
   "cell_type": "markdown",
   "id": "7fac3e26",
   "metadata": {},
   "source": [
    "FIGARO method:"
   ]
  },
  {
   "cell_type": "code",
   "execution_count": 4,
   "id": "54fd0f28",
   "metadata": {},
   "outputs": [
    {
     "name": "stdout",
     "output_type": "stream",
     "text": [
      "CPU times: user 150 ms, sys: 3.74 ms, total: 154 ms\n",
      "Wall time: 154 ms\n"
     ]
    }
   ],
   "source": [
    "%%time\n",
    "z_figaro = np.array([_find_redshift(omega, l) for l in DL])"
   ]
  },
  {
   "cell_type": "markdown",
   "id": "dd6e93fa",
   "metadata": {},
   "source": [
    "Astropy:"
   ]
  },
  {
   "cell_type": "code",
   "execution_count": 5,
   "id": "0044cf0c",
   "metadata": {},
   "outputs": [
    {
     "name": "stdout",
     "output_type": "stream",
     "text": [
      "CPU times: user 3.47 s, sys: 16.2 ms, total: 3.48 s\n",
      "Wall time: 3.5 s\n"
     ]
    }
   ],
   "source": [
    "%%time\n",
    "z_astropy = np.array([z_at_value(astropy_omega.luminosity_distance, d) for d in DL*u.Mpc])"
   ]
  },
  {
   "cell_type": "markdown",
   "id": "94d2d9af",
   "metadata": {},
   "source": [
    "Let's compare the results:"
   ]
  },
  {
   "cell_type": "code",
   "execution_count": 6,
   "id": "3a7e3a55",
   "metadata": {},
   "outputs": [
    {
     "data": {
      "image/png": "[encoded data removed]",
      "text/plain": [
       "<Figure size 720x360 with 2 Axes>"
      ]
     },
     "metadata": {
      "needs_background": "light"
     },
     "output_type": "display_data"
    }
   ],
   "source": [
    "import matplotlib.pyplot as plt\n",
    "\n",
    "fig, (ax,res) = plt.subplots(2, 1, gridspec_kw={'height_ratios': [3, 1]}, sharex = True, figsize = (10,5))\n",
    "\n",
    "ax.plot(DL, z_astropy, ls = '--', lw = 0.8, label = \"$\\mathrm{Astropy}$\")\n",
    "ax.plot(DL, z_figaro, ls = '-.', lw = 0.8, label = \"$\\mathrm{FIGARO}$\")\n",
    "ax.set_ylabel('$z$')\n",
    "ax.grid(True,dashes=(1,3))\n",
    "ax.legend(loc = 0, frameon= False)\n",
    "res.plot(DL, z_figaro-z_astropy, ls = '--', color = 'k', lw = 0.3)\n",
    "res.set_ylabel('$z_{F} - z_{Apy}$')\n",
    "res.set_xlabel('$D_L\\ [\\mathrm{Mpc}]$')\n",
    "res.grid(True,dashes=(1,3))"
   ]
  },
  {
   "cell_type": "code",
   "execution_count": null,
   "id": "01dd76f4",
   "metadata": {},
   "outputs": [],
   "source": []
  }
 ],
 "metadata": {
  "kernelspec": {
   "display_name": "Python 3 (ipykernel)",
   "language": "python",
   "name": "python3"
  },
  "language_info": {
   "codemirror_mode": {
    "name": "ipython",
    "version": 3
   },
   "file_extension": ".py",
   "mimetype": "text/x-python",
   "name": "python",
   "nbconvert_exporter": "python",
   "pygments_lexer": "ipython3",
   "version": "3.7.8"
  }
 },
 "nbformat": 4,
 "nbformat_minor": 5
}
