{
 "cells": [
  {
   "cell_type": "markdown",
   "id": "2244e9c5",
   "metadata": {},
   "source": [
    "# `coordinates.py`"
   ]
  },
  {
   "cell_type": "markdown",
   "id": "1246ad3c",
   "metadata": {},
   "source": [
    "This notebook tests the `coordinates.py` module.\n",
    "\n",
    "This module contains the functions that transforms coordinates from cartesian to celestial and vice versa, along with the jacobian of this transformation.\\\n",
    "We will test the coordinate change routines against Astropy"
   ]
  },
  {
   "cell_type": "code",
   "execution_count": null,
   "id": "fe2a28d9",
   "metadata": {},
   "outputs": [],
   "source": [
    "import numpy as np\n",
    "from astropy.coordinates import SkyCoord\n",
    "import astropy.units as u"
   ]
  },
  {
   "cell_type": "markdown",
   "id": "4bfb8917",
   "metadata": {},
   "source": [
    "## `celestial_to_cartesian`"
   ]
  },
  {
   "cell_type": "markdown",
   "id": "696f3dbf",
   "metadata": {},
   "source": [
    "This method take as input an array with shape `(N,3)` containing the celestial coordinates and returns a `(N,3)`-shaped array with cartesian coordinates."
   ]
  },
  {
   "cell_type": "code",
   "execution_count": null,
   "id": "66eb17e5",
   "metadata": {},
   "outputs": [],
   "source": [
    "from figaro.coordinates import celestial_to_cartesian\n",
    "\n",
    "ra   = np.linspace(0,2*np.pi, 73)[:-1]\n",
    "dec  = np.linspace(-np.pi/2, np.pi/2., 38)\n",
    "dist = np.linspace(1, 100, 10)\n",
    "# For loops\n",
    "grid = []\n",
    "for ra_i in ra:\n",
    "    for dec_i in dec:\n",
    "        for d_i in dist:\n",
    "            grid.append(np.array([ra_i, dec_i, d_i]))\n",
    "celestial_grid = np.array(grid)\n",
    "\n",
    "sc = SkyCoord(ra = celestial_grid[:,0]*u.rad, dec = celestial_grid[:,1]*u.rad, distance = celestial_grid[:,2]*u.Mpc)\n",
    "\n",
    "cartesian_astropy = np.array([sc.cartesian.y.value, sc.cartesian.x.value, sc.cartesian.z.value]).T\n",
    "cartesian_figaro  = celestial_to_cartesian(celestial_grid)\n",
    "np.alltrue(cartesian_astropy == cartesian_figaro)"
   ]
  },
  {
   "cell_type": "markdown",
   "id": "6eaa3b51",
   "metadata": {},
   "source": [
    "Since the element-wise comparison fails, let's look at the element-wise differences:"
   ]
  },
  {
   "cell_type": "code",
   "execution_count": null,
   "id": "2fc9174b",
   "metadata": {},
   "outputs": [],
   "source": [
    "import matplotlib.pyplot as plt\n",
    "diffs = (cartesian_astropy - cartesian_figaro).flatten()\n",
    "\n",
    "a, b, c = plt.hist(diffs, bins = int(np.sqrt(len(diffs))), histtype = 'step', density = True)\n",
    "plt.figure()\n",
    "plt.plot(diffs)\n",
    "\n",
    "np.allclose(cartesian_astropy, cartesian_figaro, atol = 2e-14, rtol = 0)"
   ]
  },
  {
   "cell_type": "markdown",
   "id": "00306da4",
   "metadata": {},
   "source": [
    "## `cartesian_to_celestial`"
   ]
  },
  {
   "cell_type": "markdown",
   "id": "681298c3",
   "metadata": {},
   "source": [
    "This method take as input an array with shape `(N,3)` containing the cartesian coordinates and returns a `(N,3)`-shaped array with celestial coordinates.\n"
   ]
  },
  {
   "cell_type": "code",
   "execution_count": null,
   "id": "a412060e",
   "metadata": {},
   "outputs": [],
   "source": [
    "from figaro.coordinates import cartesian_to_celestial\n",
    "ra   = np.linspace(0,2*np.pi, 73)[:-1]\n",
    "dec  = np.linspace(-np.pi/2, np.pi/2., 38)\n",
    "dist = np.linspace(1, 100, 10)\n",
    "# For loops\n",
    "grid = []\n",
    "for ra_i in ra:\n",
    "    for dec_i in dec:\n",
    "        for d_i in dist:\n",
    "            grid.append(np.array([ra_i, dec_i, d_i]))\n",
    "celestial_grid = np.array(grid)\n",
    "\n",
    "sc = SkyCoord(ra = celestial_grid[:,0]*u.rad, dec = celestial_grid[:,1]*u.rad, distance = celestial_grid[:,2]*u.Mpc)\n",
    "cartesian_astropy = np.array([sc.cartesian.y.value, sc.cartesian.x.value, sc.cartesian.z.value]).T\n",
    "\n",
    "celestial_figaro  = cartesian_to_celestial(cartesian_astropy)\n",
    "np.alltrue(celestial_grid == celestial_figaro)"
   ]
  },
  {
   "cell_type": "markdown",
   "id": "5a8afbcf",
   "metadata": {},
   "source": [
    "As before, the element-wise comparison fails. Element-wise differences:"
   ]
  },
  {
   "cell_type": "code",
   "execution_count": null,
   "id": "2e26ba80",
   "metadata": {},
   "outputs": [],
   "source": [
    "diffs = (celestial_grid - celestial_figaro).flatten()\n",
    "\n",
    "a, b, c = plt.hist(diffs, bins = int(np.sqrt(len(diffs))), histtype = 'step', density = True)\n",
    "plt.figure()\n",
    "plt.plot(diffs)\n",
    "\n",
    "np.allclose(cartesian_astropy, cartesian_figaro, atol = 2e-14, rtol = 0)"
   ]
  }
 ],
 "metadata": {
  "kernelspec": {
   "display_name": "Python 3 (ipykernel)",
   "language": "python",
   "name": "python3"
  },
  "language_info": {
   "codemirror_mode": {
    "name": "ipython",
    "version": 3
   },
   "file_extension": ".py",
   "mimetype": "text/x-python",
   "name": "python",
   "nbconvert_exporter": "python",
   "pygments_lexer": "ipython3",
   "version": "3.7.8"
  }
 },
 "nbformat": 4,
 "nbformat_minor": 5
}
