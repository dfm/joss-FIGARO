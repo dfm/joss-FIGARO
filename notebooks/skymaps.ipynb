{
 "cells": [
  {
   "cell_type": "markdown",
   "id": "2b0ba6a8",
   "metadata": {},
   "source": [
    "# FIGARO: skymaps"
   ]
  },
  {
   "cell_type": "markdown",
   "id": "89815b21",
   "metadata": {},
   "source": [
    "This notebook shows how to use FIGARO to reconstruct the skymap of a gravitational wave event given a set of posterior samples."
   ]
  },
  {
   "cell_type": "markdown",
   "id": "e4e1afb8",
   "metadata": {},
   "source": [
    "## Prerequisites"
   ]
  },
  {
   "cell_type": "markdown",
   "id": "509f6c42",
   "metadata": {},
   "source": [
    "This notebook makes use of the PE samples from the various GWTC data release. FIGARO comes with GW150914 posterior samples in .hdf5 format. The GWTC data releases are available via [GWOSC](https://www.gw-openscience.org).\n",
    "\n",
    "In the following we will make use of a preprocessed version of [GLADE+](http://glade.elte.hu).\\\n",
    "The catalog file is ~1.2 GB (the original .txt file is ~6 GB), therefore is not attached to FIGARO.\\\n",
    "Before running this notebook, please download GLADE+ from the website and preprocess it using the `create_glade.py` script , located in the `pipelines` folder: `python create_glade.py -i path/to/glade+.txt`. This will create, in the same folder as `glade+.txt`, `glade+.hdf5`.\n",
    "\n",
    "Once done, please provide the location of your `glade+.hdf5` file: "
   ]
  },
  {
   "cell_type": "code",
   "execution_count": null,
   "id": "86cf100a",
   "metadata": {},
   "outputs": [],
   "source": [
    "glade_file = 'path/to/glade+.hdf5'"
   ]
  },
  {
   "cell_type": "markdown",
   "id": "8fac0ec0",
   "metadata": {},
   "source": [
    "## GW150914"
   ]
  },
  {
   "cell_type": "markdown",
   "id": "c3398650",
   "metadata": {},
   "source": [
    "### Loading posterior samples"
   ]
  },
  {
   "cell_type": "markdown",
   "id": "c3e866f5",
   "metadata": {},
   "source": [
    "First of all, we need to load the posterior samples from the `.hdf5` file. FIGARO provides an ad-hoc module, `figaro.load`:"
   ]
  },
  {
   "cell_type": "code",
   "execution_count": null,
   "id": "895224c1",
   "metadata": {},
   "outputs": [],
   "source": [
    "from figaro.load import load_single_event\n",
    "import numpy as np\n",
    "\n",
    "samples, name = load_single_event('./data/GW150914_GWTC-1.hdf5', par = ['ra', 'dec', 'luminosity_distance'])"
   ]
  },
  {
   "cell_type": "markdown",
   "id": "24b4e758",
   "metadata": {},
   "source": [
    "Please note the order of the parameters: the module we are going to use expects them to be in this precise order, $[\\alpha,\\delta,D_L]$.\n",
    "\n",
    "Let's have a quick glance at the samples:"
   ]
  },
  {
   "cell_type": "code",
   "execution_count": null,
   "id": "510f0c52",
   "metadata": {},
   "outputs": [],
   "source": [
    "from corner import corner\n",
    "\n",
    "c = corner(samples, labels = ['$\\\\alpha$', '$\\\\delta$', '$D_L$'], color = 'dodgerblue')"
   ]
  },
  {
   "cell_type": "markdown",
   "id": "17b74ea5",
   "metadata": {},
   "source": [
    "The class we want to use to analyse these samples is `figaro.threeDvolume.VolumeReconstruction`:"
   ]
  },
  {
   "cell_type": "code",
   "execution_count": null,
   "id": "021ae1c3",
   "metadata": {},
   "outputs": [],
   "source": [
    "from figaro.threeDvolume import VolumeReconstruction"
   ]
  },
  {
   "cell_type": "markdown",
   "id": "3d095ae3",
   "metadata": {},
   "source": [
    "This class takes several parameters (only one of them is mandatory, though). Here we report the ones which are most useful for a turnkey use, postponing the others :\n",
    " * `max_dist`, **mandatory**: upper bound of the distance prior in Mpc. The other end is set, by default, to 0. Beware that setting `max_dist = max(samples[:,2])` is not allowed and raises an exception. This is intentional: FIGARO does not allow the user to determine parameter space bounds directly using samples values;\n",
    " * `out_folder`: folder where to save the outputs;\n",
    " * `n_gridpoints`: number of grid points for each parameter. Default is 720 for $\\alpha$, 360 for $\\delta$ ($0.25\\ \\mathrm{deg}^2$ resolution) and 100 for $D_L$. For a quicker run,  which however gives a less precise skymap, use smaller numbers;\n",
    " * `name`: event name, to be given to outputs;\n",
    " * `latex`: use LaTeX in plots (it takes a bit longer to produce outputs, but they are nicer).\n",
    "\n",
    "In this example, the maximum distance will be set to 1000 Mpc. Instancing the `VolumeReconstruction` with default values takes around a minute because it needs to compute a 720x360x100 grid."
   ]
  },
  {
   "cell_type": "code",
   "execution_count": null,
   "id": "0247839f",
   "metadata": {},
   "outputs": [],
   "source": [
    "d_max = 1000\n",
    "\n",
    "mix = VolumeReconstruction(max_dist   = d_max,\n",
    "                           out_folder = './skymap_test',\n",
    "                           name       = name,\n",
    "                           latex      = True,\n",
    "                           )"
   ]
  },
  {
   "cell_type": "markdown",
   "id": "fbaf5fd9",
   "metadata": {},
   "source": [
    "`VolumeReconstruction` works identically to `figaro.mixture.DPGMM`. To reconstruct the skymap, just use the `density_from_samples` method:"
   ]
  },
  {
   "cell_type": "code",
   "execution_count": null,
   "id": "056e8d56",
   "metadata": {},
   "outputs": [],
   "source": [
    "mix.density_from_samples(samples)"
   ]
  },
  {
   "cell_type": "markdown",
   "id": "ece7efca",
   "metadata": {},
   "source": [
    "The skymap is stored in `out_folder/skymaps/name/`:"
   ]
  },
  {
   "cell_type": "code",
   "execution_count": null,
   "id": "1699305e",
   "metadata": {},
   "outputs": [],
   "source": [
    "from IPython.display import display_pdf\n",
    "from pathlib import Path\n",
    "\n",
    "with open(Path(mix.out_folder, 'skymaps/{0}/{0}_all.pdf'.format(mix.name)).resolve(), \"rb\") as f:\n",
    "    display_pdf(f.read(),raw=True)"
   ]
  },
  {
   "cell_type": "markdown",
   "id": "4b65e1a0",
   "metadata": {},
   "source": []
  }
 ],
 "metadata": {
  "kernelspec": {
   "display_name": "Python 3 (ipykernel)",
   "language": "python",
   "name": "python3"
  },
  "language_info": {
   "codemirror_mode": {
    "name": "ipython",
    "version": 3
   },
   "file_extension": ".py",
   "mimetype": "text/x-python",
   "name": "python",
   "nbconvert_exporter": "python",
   "pygments_lexer": "ipython3",
   "version": "3.7.8"
  }
 },
 "nbformat": 4,
 "nbformat_minor": 5
}
