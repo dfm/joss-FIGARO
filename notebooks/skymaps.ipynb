{
 "cells": [
  {
   "cell_type": "markdown",
   "id": "2b0ba6a8",
   "metadata": {},
   "source": [
    "# FIGARO: skymaps"
   ]
  },
  {
   "cell_type": "markdown",
   "id": "89815b21",
   "metadata": {},
   "source": [
    "This notebook shows how to use FIGARO to reconstruct the skymap of a gravitational wave event given a set of posterior samples."
   ]
  },
  {
   "cell_type": "markdown",
   "id": "e4e1afb8",
   "metadata": {},
   "source": [
    "## Prerequisites"
   ]
  },
  {
   "cell_type": "markdown",
   "id": "509f6c42",
   "metadata": {},
   "source": [
    "This notebook makes use of the PE samples from the various GWTC data release. FIGARO comes with GW150914 posterior samples in .hdf5 format. The GWTC data releases are available via [GWOSC](https://www.gw-openscience.org).\n",
    "\n",
    "In the following we will make use of a preprocessed version of [GLADE+](http://glade.elte.hu).\\\n",
    "The catalog file is ~1.2 GB (the original .txt file is ~6 GB), therefore is not attached to FIGARO.\\\n",
    "Before running this notebook, please download GLADE+ from the website and preprocess via `figaro-glade -i path/to/glade+.txt`. This will create, in the same folder as `glade+.txt`, `glade+.hdf5`.\n",
    "\n",
    "Once done, please provide the location of your `glade+.hdf5` file: "
   ]
  },
  {
   "cell_type": "code",
   "execution_count": null,
   "id": "86cf100a",
   "metadata": {},
   "outputs": [],
   "source": [
    "glade_file = 'path/to/glade+.hdf5'"
   ]
  },
  {
   "cell_type": "markdown",
   "id": "8fac0ec0",
   "metadata": {},
   "source": [
    "## GW150914"
   ]
  },
  {
   "cell_type": "markdown",
   "id": "c3398650",
   "metadata": {},
   "source": [
    "### Loading posterior samples"
   ]
  },
  {
   "cell_type": "markdown",
   "id": "c3e866f5",
   "metadata": {},
   "source": [
    "First of all, we need to load the posterior samples from the `.hdf5` file. FIGARO provides an ad-hoc module, `figaro.load`:"
   ]
  },
  {
   "cell_type": "code",
   "execution_count": null,
   "id": "895224c1",
   "metadata": {},
   "outputs": [],
   "source": [
    "from figaro.load import load_single_event\n",
    "import numpy as np\n",
    "\n",
    "samples, name = load_single_event('./data/GW150914.hdf5', par = ['ra', 'dec', 'luminosity_distance'])"
   ]
  },
  {
   "cell_type": "markdown",
   "id": "24b4e758",
   "metadata": {},
   "source": [
    "Please note the order of the parameters: the module we are going to use expects them to be in this precise order:\n",
    "$(\\alpha,\\delta,D_L)$.\n",
    "\n",
    "Another possibility is to use the `volume` argument: in this case, `load_single_event` returns the correct parameters in the correct order. Please keep in mind that, with unstructured data, both `par` and `volume` are ignored, therefore it is up to the user to check that the input file contains the correct data in the correct order."
   ]
  },
  {
   "cell_type": "code",
   "execution_count": null,
   "id": "76a85267",
   "metadata": {},
   "outputs": [],
   "source": [
    "samples, name = load_single_event('./data/GW150914.hdf5', volume = True)"
   ]
  },
  {
   "cell_type": "markdown",
   "id": "b33bea9d",
   "metadata": {},
   "source": [
    "Let's have a quick glance at the samples:"
   ]
  },
  {
   "cell_type": "code",
   "execution_count": null,
   "id": "510f0c52",
   "metadata": {},
   "outputs": [],
   "source": [
    "from corner import corner\n",
    "\n",
    "c = corner(samples, labels = ['$\\\\alpha$', '$\\\\delta$', '$D_L$'], color = 'dodgerblue')"
   ]
  },
  {
   "cell_type": "markdown",
   "id": "7f96b2c7",
   "metadata": {},
   "source": [
    "### Make skymap"
   ]
  },
  {
   "cell_type": "markdown",
   "id": "17b74ea5",
   "metadata": {},
   "source": [
    "The class we want to use to analyse these samples is `figaro.threeDvolume.VolumeReconstruction`:"
   ]
  },
  {
   "cell_type": "code",
   "execution_count": null,
   "id": "021ae1c3",
   "metadata": {},
   "outputs": [],
   "source": [
    "from figaro.threeDvolume import VolumeReconstruction"
   ]
  },
  {
   "cell_type": "markdown",
   "id": "3d095ae3",
   "metadata": {},
   "source": [
    "This class takes several parameters (only one of them is mandatory, though). Here we report the ones which are most useful for a turnkey use, postponing the others :\n",
    " * `max_dist`, **mandatory**: upper bound of the distance prior in Mpc. The other end is set, by default, to 0. Beware that setting `max_dist = max(samples[:,2])` is not allowed and raises an exception. This is intentional: FIGARO does not allow the user to determine parameter space bounds directly using samples values;\n",
    " * `out_folder`: folder where to save the outputs;\n",
    " * `n_gridpoints`: number of grid points for each parameter. Default is 720 for $\\alpha$, 360 for $\\delta$ ($0.25\\ \\mathrm{deg}^2$ resolution) and 100 for $D_L$. For a quicker run,  which however gives a less precise skymap, use smaller numbers;\n",
    " * `name`: event name, to be given to outputs;\n",
    " * `latex`: use LaTeX in plots (it takes a bit longer to produce outputs, but they are nicer).\n",
    "\n",
    "In this example, the maximum distance will be set to 1000 Mpc. Instancing the `VolumeReconstruction` with default values takes around a minute because it needs to compute a 720x360x100 grid."
   ]
  },
  {
   "cell_type": "code",
   "execution_count": null,
   "id": "0247839f",
   "metadata": {},
   "outputs": [],
   "source": [
    "d_max = 1000\n",
    "\n",
    "mix = VolumeReconstruction(max_dist   = d_max,\n",
    "                           out_folder = './skymap_test',\n",
    "                           name       = name,\n",
    "                           latex      = True,\n",
    "                           )"
   ]
  },
  {
   "cell_type": "markdown",
   "id": "fbaf5fd9",
   "metadata": {},
   "source": [
    "`VolumeReconstruction` works identically to `figaro.mixture.DPGMM`. To reconstruct the skymap, just use the `density_from_samples` method:"
   ]
  },
  {
   "cell_type": "code",
   "execution_count": null,
   "id": "056e8d56",
   "metadata": {},
   "outputs": [],
   "source": [
    "mix.density_from_samples(samples)"
   ]
  },
  {
   "cell_type": "markdown",
   "id": "ece7efca",
   "metadata": {},
   "source": [
    "The skymap is stored in `out_folder/skymaps/name/`:"
   ]
  },
  {
   "cell_type": "code",
   "execution_count": null,
   "id": "1699305e",
   "metadata": {},
   "outputs": [],
   "source": [
    "from IPython.display import Markdown as md\n",
    "from pathlib import Path\n",
    "\n",
    "file = Path(mix.out_folder.parts[-1], 'skymaps', mix.name, mix.name+'_all.pdf')\n",
    "mdcommand = \"![SegmentLocal]({})\".format(file)\n",
    "md(mdcommand)"
   ]
  },
  {
   "cell_type": "markdown",
   "id": "33fcfabd",
   "metadata": {},
   "source": [
    "FIGARO can also provide intermediate sky maps while inferring the mixture.\n",
    "The appropriate keyword, in this case, is `incr_plot`.\n",
    "\n",
    "**NB:** the keywords presented here (and in the following) can be used while instanciating the class as well as during the initialisation. In this notebook, we will rely on the latter in order to avoid re-computing the volume grid for every example."
   ]
  },
  {
   "cell_type": "code",
   "execution_count": null,
   "id": "c0990eec",
   "metadata": {},
   "outputs": [],
   "source": [
    "mix.initialise(out_folder = 'skymap_incr', incr_plot = True)\n",
    "\n",
    "np.random.shuffle(samples)\n",
    "mix.density_from_samples(samples)"
   ]
  },
  {
   "cell_type": "markdown",
   "id": "a4268f67",
   "metadata": {},
   "source": [
    "The skymap evolution is shown in this pretty GIF:"
   ]
  },
  {
   "cell_type": "code",
   "execution_count": null,
   "id": "a167b07b",
   "metadata": {},
   "outputs": [],
   "source": [
    "mdcommand = \"![SegmentLocal]({})\".format(Path(mix.out_folder.parts[-1], 'gif', mix.name+'.gif'))\n",
    "md(mdcommand)"
   ]
  },
  {
   "cell_type": "markdown",
   "id": "ec57a090",
   "metadata": {},
   "source": [
    "The evolution of the credible volume/area:"
   ]
  },
  {
   "cell_type": "code",
   "execution_count": null,
   "id": "68457f34",
   "metadata": {},
   "outputs": [],
   "source": [
    "mdcommand = \"![SegmentLocal]({})\".format(Path(mix.out_folder.parts[-1], 'CR', mix.name+'.pdf'))\n",
    "md(mdcommand)"
   ]
  },
  {
   "cell_type": "markdown",
   "id": "9cd15def",
   "metadata": {},
   "source": [
    "Using the information entropy of the distribution, we made FIGARO capable of deciding on its own when to start producing skymaps - we refer the interested user to the methods paper [Rinaldi & Del Pozzo (in preparation)](https://en.uncyclopedia.co/wiki/Frankly_Disappointing_Telescope) for further details.\\\n",
    "This feature is activated by the `entropy` keyword."
   ]
  },
  {
   "cell_type": "code",
   "execution_count": null,
   "id": "f4a716ef",
   "metadata": {},
   "outputs": [],
   "source": [
    "mix.initialise(out_folder = 'skymap_entropy', incr_plot = False, entropy = True)\n",
    "\n",
    "np.random.shuffle(samples)\n",
    "mix.density_from_samples(samples)"
   ]
  },
  {
   "cell_type": "markdown",
   "id": "a7f72dbb",
   "metadata": {},
   "source": [
    "The `skymap_entropy/skymap/GW150914` now contains two (or more, if you run this notebook more than once) skymaps: one produced as soon as the entropy derivative changes sign 5 times and the other produced at the end of the run."
   ]
  },
  {
   "cell_type": "code",
   "execution_count": null,
   "id": "4691adbb",
   "metadata": {},
   "outputs": [],
   "source": [
    "fdr = Path(mix.out_folder.parts[-1], 'skymaps', mix.name)\n",
    "\n",
    "mdcommand = \" \".join([\"![SegmentLocal]({})\".format(str(file)) for file in list(fdr.glob('GW*'))])\n",
    "md(mdcommand)"
   ]
  },
  {
   "cell_type": "markdown",
   "id": "768979ce",
   "metadata": {},
   "source": [
    "It is also possible to have a look at the entropy evolution and at its angular coefficient:"
   ]
  },
  {
   "cell_type": "code",
   "execution_count": null,
   "id": "bf58e6fe",
   "metadata": {},
   "outputs": [],
   "source": [
    "fdr = Path(mix.out_folder.parts[-1], 'entropy')\n",
    "\n",
    "mdcommand = \" \".join([\"![SegmentLocal]({})\".format(str(file)) for file in list(fdr.glob('*{0}.pdf'.format(mix.name)))])\n",
    "md(mdcommand)"
   ]
  },
  {
   "cell_type": "markdown",
   "id": "52c38124",
   "metadata": {},
   "source": [
    "## GW170817"
   ]
  },
  {
   "cell_type": "markdown",
   "id": "efd4d002",
   "metadata": {},
   "source": [
    "GW170817 is the only gravitational event with an associated electromagnetic counterpart. We will use this event to demonstrate how it is possible to use FIGARO to rank the galaxies in a galaxy catalog.\n",
    "\n",
    "**Please remember to provide the path to the GLADE+ file at the beginning before continuing.**"
   ]
  },
  {
   "cell_type": "code",
   "execution_count": null,
   "id": "20b90d94",
   "metadata": {},
   "outputs": [],
   "source": [
    "from pathlib import Path\n",
    "if not Path(glade_file).exists():\n",
    "    raise FileNotFoundError(\"Please provide a valid GLADE+ file\")"
   ]
  },
  {
   "cell_type": "markdown",
   "id": "05ebd459",
   "metadata": {},
   "source": [
    "First of all, we need to load the data:"
   ]
  },
  {
   "cell_type": "code",
   "execution_count": null,
   "id": "55525821",
   "metadata": {},
   "outputs": [],
   "source": [
    "samples_catalog, name = load_single_event('./data/GW170817_noEM.txt')"
   ]
  },
  {
   "cell_type": "markdown",
   "id": "e0550127",
   "metadata": {},
   "source": [
    "The main difference with the previous instance of `VolumeReconstruction` is the fact that now we need to specify a galaxy catalog. Moreover, if the host is known (like in this situation or for simulations), it is possible to specify its position and a name."
   ]
  },
  {
   "cell_type": "code",
   "execution_count": null,
   "id": "52cf4b71",
   "metadata": {},
   "outputs": [],
   "source": [
    "d = 100\n",
    "ngc_4993_position = [3.446131245232759266e+00, -4.081248426799181650e-01]\n",
    "\n",
    "mix_catalog = VolumeReconstruction(d,\n",
    "                                   name = name,\n",
    "                                   out_folder = './skymap_catalog',\n",
    "                                   region_to_plot = 0.9,\n",
    "                                   latex = True,\n",
    "                                   glade_file = glade_file,\n",
    "                                   true_host = ngc_4993_position,\n",
    "                                   host_name = 'NGC 4993',\n",
    "                                  )"
   ]
  },
  {
   "cell_type": "code",
   "execution_count": null,
   "id": "c207cf1f",
   "metadata": {},
   "outputs": [],
   "source": [
    "mix_catalog.density_from_samples(samples_catalog)"
   ]
  },
  {
   "cell_type": "markdown",
   "id": "2f0f65ea",
   "metadata": {},
   "source": [
    "The skymap now contains the galaxies coloured according to their probability of being the host of the gravitational wave event:"
   ]
  },
  {
   "cell_type": "code",
   "execution_count": null,
   "id": "cf3b363b",
   "metadata": {},
   "outputs": [],
   "source": [
    "mdcommand = \"![SegmentLocal]({})\".format(Path(mix_catalog.out_folder.parts[-1], 'skymaps', mix_catalog.name, 'galaxies_'+mix_catalog.name+'_all.pdf'))\n",
    "md(mdcommand)"
   ]
  },
  {
   "cell_type": "markdown",
   "id": "8f64f699",
   "metadata": {},
   "source": [
    "Let's check where the true host falls in the ranked list:"
   ]
  },
  {
   "cell_type": "code",
   "execution_count": null,
   "id": "11072f4f",
   "metadata": {},
   "outputs": [],
   "source": [
    "ranked_catalog = np.genfromtxt(Path(mix_catalog.out_folder.parts[-1], 'catalogs', mix_catalog.name, mix_catalog.name+'_'+str(len(samples_catalog))+'.txt'))\n",
    "\n",
    "np.where(ranked_catalog[:,0] == ngc_4993_position[0])"
   ]
  }
 ],
 "metadata": {
  "kernelspec": {
   "display_name": "Python 3 (ipykernel)",
   "language": "python",
   "name": "python3"
  },
  "language_info": {
   "codemirror_mode": {
    "name": "ipython",
    "version": 3
   },
   "file_extension": ".py",
   "mimetype": "text/x-python",
   "name": "python",
   "nbconvert_exporter": "python",
   "pygments_lexer": "ipython3",
   "version": "3.7.8"
  }
 },
 "nbformat": 4,
 "nbformat_minor": 5
}
